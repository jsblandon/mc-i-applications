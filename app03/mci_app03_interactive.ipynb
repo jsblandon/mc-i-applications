{
  "nbformat": 4,
  "nbformat_minor": 0,
  "metadata": {
    "colab": {
      "name": "mci_app03_interactive.ipynb",
      "provenance": [],
      "collapsed_sections": [],
      "authorship_tag": "ABX9TyMfCizPphQlmJ0SYPBkTqjl",
      "include_colab_link": true
    },
    "kernelspec": {
      "name": "python3",
      "display_name": "Python 3"
    },
    "language_info": {
      "name": "python"
    }
  },
  "cells": [
    {
      "cell_type": "markdown",
      "metadata": {
        "id": "view-in-github",
        "colab_type": "text"
      },
      "source": [
        "<a href=\"https://colab.research.google.com/github/jsblandon/mc-i-applications/blob/main/app03/mci_app03_interactive.ipynb\" target=\"_parent\"><img src=\"https://colab.research.google.com/assets/colab-badge.svg\" alt=\"Open In Colab\"/></a>"
      ]
    },
    {
      "cell_type": "markdown",
      "source": [
        "# <center> Aplicación 03 - Métodos Cuantitativos I</center>\n",
        "## <center> Ingeniería Agroambiental </center>\n",
        "###  <center> Universidad Tecnológica - UTEC </center>\n",
        "### <center> Juan Blandón </center>\n",
        "<center> 2022 - I </center>"
      ],
      "metadata": {
        "id": "a6TULFtk7o1u"
      }
    },
    {
      "cell_type": "markdown",
      "source": [
        "La fórmula de Gauss es un método para calcular el área exacta dentro de cualquier polígono irregular simple. La fórmula de Gauss para calcular áreas se puede entender comop una serie de pasos que conducen a obtener el resultado del área de la figura. Esta tiene aplicaciones especialmente en computación gráfica, investigación, forestal, entre otros, ya que permite determinar áreas a partir de coordenadas.\n",
        "\n",
        "La fórmula de Gauss puede ser resuelta computacionalmente a través de un algoritmo. Este está compuesto por una serie de pasos que se deben seguir en orden con el fin de obtener el valor del área."
      ],
      "metadata": {
        "id": "sY4qluvw7uNI"
      }
    },
    {
      "cell_type": "markdown",
      "source": [
        "<p><a href=\"https://commons.wikimedia.org/wiki/File:Trapez-formel-beispiel.svg#/media/File:Trapez-formel-beispiel.svg\"><img src=\"https://upload.wikimedia.org/wikipedia/commons/thumb/e/e2/Trapez-formel-beispiel.svg/1200px-Trapez-formel-beispiel.svg.png\" alt=\"Trapez-formel-beispiel.svg\"></a><br>\n",
        "By &lt;a href=\"//commons.wikimedia.org/wiki/User:Ag2gaeh\" title=\"User:Ag2gaeh\"&gt;Ag2gaeh&lt;/a&gt; - &lt;span class=\"int-own-work\" lang=\"en\"&gt;Own work&lt;/span&gt;, <a href=\"https://creativecommons.org/licenses/by-sa/4.0\" title=\"Creative Commons Attribution-Share Alike 4.0\">CC BY-SA 4.0</a>, <a href=\"https://commons.wikimedia.org/w/index.php?curid=114180178\">Link</a></p>\n",
        "\n",
        "**Figura 1. Ejemplo de polígono irregular**"
      ],
      "metadata": {
        "id": "vn1O1e9I_JK4"
      }
    },
    {
      "cell_type": "markdown",
      "source": [
        "Supóngase que se quiere calcular el área del polígono de la Figura 1. La fórmula de Gauss establece que:\n",
        "\n",
        "$$A = \\frac{1}{2} \\sum_{i = 1}^{n} (y_{i} + y_{i+1})(x_{i} + x_{i+1})$$\n",
        "\n",
        "Donde $n$ es la cantidad total de coordenadas que definen el polígono, $(x_{i}, y_{i})$ es la coordenada actual y $(x_{i+1},y_{i+1})$ es la siguiente coordenada.\n",
        "\n",
        "Si se quisiera calcular el área del polígono de la Figura 1, se puede llevar esto a la fórmula de la siguiente manera:\n",
        "\n",
        "1.   Seleccione un punto para arrancar a calcular el área. Este será el punto $(x_{1}, y_{1})$:\n",
        "\n",
        "\\begin{array}{lcr}\n",
        "\\mbox{Punto} & x & y \\\\\n",
        "\\mbox{$P_{1}$} & 1 & 6\n",
        "\\end{array} \n",
        "\n",
        "2.   A partir del punto seleccionado se empieza a recorrer el polígono en sentido antihorario, agregando bajo las coordenadas del primer punto los otros de la trayectoria.\n",
        "\n",
        "\\begin{array}{lcr}\n",
        "\\mbox{Punto} & x & y \\\\\n",
        "\\mbox{$P_{1}$} & 1 & 6 \\\\\n",
        "\\mbox{$P_{2}$} & 3 & 1 \\\\\n",
        "\\mbox{$P_{3}$} & 7 & 2 \\\\\n",
        "\\mbox{$P_{4}$} & 4 & 4 \\\\\n",
        "\\mbox{$P_{5}$} & 8 & 5 \\end{array} \n",
        "\n",
        "3.   Una vez se tengan todos los puntos, en la última posición de la lista se ubica nuevamente el primer punto del cual se arrancó ya que en este termina el recorrido.\n",
        "\n",
        "\\begin{array}{lcr}\n",
        "\\mbox{Punto} & x & y \\\\\n",
        "\\mbox{$P_{1}$} & 1 & 6 \\\\\n",
        "\\mbox{$P_{2}$} & 3 & 1 \\\\\n",
        "\\mbox{$P_{3}$} & 7 & 2 \\\\\n",
        "\\mbox{$P_{4}$} & 4 & 4 \\\\\n",
        "\\mbox{$P_{5}$} & 8 & 5 \\\\\n",
        "\\mbox{$P_{6}$} & 1 & 6\n",
        "\\end{array} \n",
        "\n",
        "4.   Una vez se ha identificado el orden de las coordenadas, se procede a calcular el área, expandiendo la fórmula de Gauss:\n",
        "\n",
        "$$A = \\frac{1}{2} \\sum_{i = 1}^{n} (y_{i} + y_{i+1})(x_{i} + x_{i+1}) =\\frac{1}{2} ( (y_{1} + y_{2})(x_{1} - x_{2}) + (y_{2} + y_{3})(x_{2} - x_{3}) + (y_{3} + y_{4})(x_{3} - x_{4}) + (y_{4} + y_{5})(x_{4} - x_{5}) + (y_{5} + y_{6})(x_{5} - x_{6})),$$\n",
        "\n",
        "En este caso $y_{1} = y_{6}$ y $x_{1} = x_{6}$.\n",
        "\n",
        "5.   Finalmente, tras reemplazar los valores en la fórmula se obtiene el área:\n",
        "\n",
        "$$A = 16.5$$"
      ],
      "metadata": {
        "id": "QEgb60W-BEk9"
      }
    },
    {
      "cell_type": "markdown",
      "source": [
        "---\n",
        "\n",
        "# **Ejercicio I**\n",
        "\n",
        "---\n",
        "\n",
        "Compruebe el resultado del ejemplo al reemplazar los valores correspondientes en las variables del cuarto paso."
      ],
      "metadata": {
        "id": "EWh_01J5L-4D"
      }
    },
    {
      "cell_type": "markdown",
      "source": [
        "---\n",
        "\n",
        "# **Librerías**\n",
        "\n",
        "---"
      ],
      "metadata": {
        "id": "-FFB3FLaPw6P"
      }
    },
    {
      "cell_type": "code",
      "source": [
        "# Librerías a importar\n",
        "import numpy as np\n",
        "import matplotlib.pyplot as plt\n",
        "import seaborn as sb"
      ],
      "metadata": {
        "id": "uylwZr-H7r8f"
      },
      "execution_count": null,
      "outputs": []
    },
    {
      "cell_type": "code",
      "source": [
        "# Se fijan los parámetros fijos para graficar con Seaborn\n",
        "sb.set_style('whitegrid', {'grid.linestyle': '--'})\n",
        "sb.set_palette(\"dark\")"
      ],
      "metadata": {
        "id": "gPTdOLneP8DD"
      },
      "execution_count": null,
      "outputs": []
    },
    {
      "cell_type": "markdown",
      "source": [
        "---\n",
        "\n",
        "# **Funciones**\n",
        "\n",
        "---"
      ],
      "metadata": {
        "id": "CIMGnIZvQwcg"
      }
    },
    {
      "cell_type": "code",
      "source": [
        "def obtener_valores():\n",
        "    r'''Función para obtener por consola los valores de las coordenadas\n",
        "\n",
        "        Recibe:\n",
        "        ------\n",
        "            No aplica\n",
        "        \n",
        "        Devuelve:\n",
        "        --------\n",
        "            n : int\n",
        "                Número total de puntos a considerar\n",
        "\n",
        "            X :  list\n",
        "                Lista de valores de las coordenadas x de los puntos que componen\n",
        "                el polígono\n",
        "\n",
        "            Y : list\n",
        "                Lista de valores de las coordenadas y de los puntos que componen\n",
        "                el polígono\n",
        "    '''\n",
        "\n",
        "    # Se pide la cantidad total de puntos\n",
        "    n = int(input(\"¿Cuántos puntos componen el polígono?: \"))\n",
        "\n",
        "    # A partir de la cantidad de puntos se crean las listas de las coordenadas\n",
        "    X = []\n",
        "    Y = []\n",
        "\n",
        "    for coordenada in range(0,n):\n",
        "        # Se solicitan por consola los valores de las coordenadas\n",
        "        x = float(input(\"Ingrese el valor del punto x\" + str(coordenada+1) + \":\"))\n",
        "        y = float(input(\"Ingrese el valor del punto y\" + str(coordenada+1) + \":\"))\n",
        "\n",
        "        # Se agregan los valores a las listas\n",
        "        X.append(x)\n",
        "        Y.append(y)\n",
        "\n",
        "    # Se agrega el primer punto en la última posición de la lista\n",
        "    X.append(X[0])\n",
        "    Y.append(Y[0])\n",
        "\n",
        "    return X,Y"
      ],
      "metadata": {
        "id": "mG2zTcolTL0G"
      },
      "execution_count": null,
      "outputs": []
    },
    {
      "cell_type": "code",
      "source": [
        "def formula_gauss(X:list, Y:list) -> int:\n",
        "    r'''Función que implementa la fórmula de Gauss para calcular áreas de \n",
        "        polígonos irregulares\n",
        "\n",
        "        Recibe:\n",
        "        ------\n",
        "            X :  list\n",
        "                Lista de valores de las coordenadas x de los puntos que componen\n",
        "                el polígono\n",
        "\n",
        "            Y : list\n",
        "                Lista de valores de las coordenadas y de los puntos que componen\n",
        "                el polígono\n",
        "        \n",
        "        Devuelve:\n",
        "        --------\n",
        "            A : float\n",
        "                Área calculada para el polígono irregular\n",
        "    '''\n",
        "    # Se inicializa la suma\n",
        "    A = 0\n",
        "\n",
        "    # Se calcula el área del polígono\n",
        "    for i in range(0,len(X) - 1):\n",
        "        A += (Y[i] + Y[i+1])*(X[i] - X[i+1])\n",
        "\n",
        "    A = 0.5*A\n",
        "\n",
        "    print(\"El valor del área del polígono es: \", A)\n",
        "\n",
        "    # Se genera una gráfica del polígono\n",
        "    plt.figure(figsize=(12,6))\n",
        "    ax = plt.gca()\n",
        "    plt.plot(X,Y, '--o')\n",
        "    ax.fill_between(X,Y,color='C0', alpha=0.3)\n",
        "    plt.show()\n",
        "\n",
        "    return A"
      ],
      "metadata": {
        "id": "mDQxiP3lP-Yh"
      },
      "execution_count": null,
      "outputs": []
    },
    {
      "cell_type": "markdown",
      "source": [
        "---\n",
        "\n",
        "# **Ejercicio II**\n",
        "\n",
        "---"
      ],
      "metadata": {
        "id": "E4lLFyO_fGHA"
      }
    },
    {
      "cell_type": "markdown",
      "source": [
        "Calcule el área del polígono compuesto por las coordenadas:\n",
        "\n",
        "\\begin{array}{lcr}\n",
        "\\mbox{Punto} & x & y \\\\\n",
        "\\mbox{$(x_{1},y_{1})$} & 4 & 4 \\\\\n",
        "\\mbox{$(x_{2},y_{2})$} & 0 & 1 \\\\\n",
        "\\mbox{$(x_{3},y_{3})$} & -2 & 5 \\\\\n",
        "\\mbox{$(x_{4},y_{4})$} & -6 & 0 \\\\\n",
        "\\mbox{$(x_{5},y_{5})$} & -1 & -4 \\\\\n",
        "\\mbox{$(x_{6},y_{6})$} & 5 & -2\n",
        "\\end{array}"
      ],
      "metadata": {
        "id": "TmQi_JLVfKc5"
      }
    },
    {
      "cell_type": "code",
      "source": [
        "# Llamada de las funciones de la aplicación\n",
        "X, Y = obtener_valores()\n",
        "_ = formula_gauss(X,Y)"
      ],
      "metadata": {
        "id": "AIvEmOorfJwo"
      },
      "execution_count": null,
      "outputs": []
    },
    {
      "cell_type": "markdown",
      "source": [
        "---\n",
        "\n",
        "# **Ejercicio III**\n",
        "\n",
        "---"
      ],
      "metadata": {
        "id": "gHEBBDqXj8uQ"
      }
    },
    {
      "cell_type": "markdown",
      "source": [
        "Calcule el área de la figura que forman las siguientes coordenadas:\n",
        "\n",
        "\\begin{array}{lcr}\n",
        "\\mbox{Punto} & x & y \\\\\n",
        "\\mbox{$(x_{1},y_{1})$} & 0 & 1 \\\\\n",
        "\\mbox{$(x_{2},y_{2})$} & 5 & 6 \\\\\n",
        "\\end{array}"
      ],
      "metadata": {
        "id": "36nac1NMkk35"
      }
    },
    {
      "cell_type": "code",
      "source": [
        "# Llamada de las funciones de la aplicación\n",
        "X, Y = obtener_valores()\n",
        "_ = formula_gauss(X,Y)"
      ],
      "metadata": {
        "id": "1kv6V4asjfsk"
      },
      "execution_count": null,
      "outputs": []
    },
    {
      "cell_type": "markdown",
      "source": [
        "---\n",
        "\n",
        "# **Ejercicio IV**\n",
        "\n",
        "---"
      ],
      "metadata": {
        "id": "r0vnjiGPlKTv"
      }
    },
    {
      "cell_type": "markdown",
      "source": [
        "Calcule el área del siguiente polígono:\n",
        "\n",
        "\\begin{array}{lcr}\n",
        "\\mbox{Punto} & x & y \\\\\n",
        "\\mbox{$(x_{1},y_{1})$} & 0 & 1 \\\\\n",
        "\\mbox{$(x_{2},y_{2})$} & 0 & -1 \\\\\n",
        "\\mbox{$(x_{3},y_{3})$} & 4 & 3 \\\\\n",
        "\\mbox{$(x_{4},y_{4})$} & 5 & 0 \\\\\n",
        "\\mbox{$(x_{5},y_{5})$} & 4 & -3\n",
        "\\end{array}"
      ],
      "metadata": {
        "id": "uUsXjn5llNXF"
      }
    },
    {
      "cell_type": "code",
      "source": [
        "# Llamada de las funciones de la aplicación\n",
        "X, Y = obtener_valores()\n",
        "_ = formula_gauss(X,Y)"
      ],
      "metadata": {
        "id": "ewDS3ZbllFeL"
      },
      "execution_count": null,
      "outputs": []
    }
  ]
}