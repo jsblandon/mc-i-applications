{
 "cells": [
  {
   "cell_type": "markdown",
   "metadata": {},
   "source": [
    "# <center> **Aplicación 01 - Métodos Cuantitativos I**</center>\n",
    "## <center> **Ingeniería Agroambiental** </center>\n",
    "###  <center> Universidad Tecnológica - UTEC </center>\n",
    "### <center>  Matías Salomone </center>\n",
    "### <center> Juan Blandón </center>\n",
    "<center> 2022 - I </center>"
   ]
  },
  {
   "cell_type": "markdown",
   "metadata": {},
   "source": [
    "El contenido a continuación hace parte de [The Biology Project](http://www.biology.arizona.edu/). Se modificó parcialmente el contenido de [Trigonometric Functions Applications\n",
    "Environmental Fluctuations](http://www.biology.arizona.edu/biomath/tutorials/trigonometric/Applications/EnFluct.html) para adaptarlo al contexto de IAGRO."
   ]
  },
  {
   "cell_type": "markdown",
   "metadata": {},
   "source": [
    "Los organismos están influenciados por las condiciones ambientales. De hecho, existen ambientes cuyas condiciones son intolerables para ciertas especies. Por ejemplo, la temperatura, el clima, la presencia de competidores y la disponibilidad de recursos son factores que determinan la superviviencia de alguna especie. En algunos casos pueden emerger insectos como la cigarra, la aceleración de los ciclos de vida de algunos anfibios cuando los recursos hídricos disminuyen, la reproducción estacional de algunas especies, y el ciclo de vida de especies propias de los desiertos."
   ]
  },
  {
   "cell_type": "markdown",
   "metadata": {},
   "source": [
    "En este primer práctico del curso de Métodos Cuantitativos I nos encargaremos de resolver una serie de problemas y validaremos con este cuaderno los resultados que obtengamos. Ahora, supondremos un caso hipotético donde usted es Ingenier@ Agroambiental y quiere descubrir las condiciones de temperatura bajo las cuales una especie invasora de insectos puede reproducirse y afectar un cultivo. En el laboratorio usted varía periódicamente la temperatura de acuerdo a la siguiente función trigonométrica:\n",
    "\n",
    "$$T(t) = 72 - 19 cos \\left(\\frac{\\pi}{12} (t-4)\\right),$$\n",
    "\n"
   ]
  },
  {
   "cell_type": "markdown",
   "metadata": {},
   "source": [
    "donde $T$ representa la temperatura en grados Farenheit ($°F$) y $t$ representa el tiempo en horas (donde $t = 0$ corresponde al inicio del experimento). Se asume que los otros factores ambientales permanecen constantes durante el experimento."
   ]
  },
  {
   "cell_type": "markdown",
   "metadata": {},
   "source": [
    "Use la ecuación anterior para responder las siguientes preguntas:"
   ]
  },
  {
   "cell_type": "markdown",
   "metadata": {},
   "source": [
    "* ¿Cuál es la temperatura ambiental aproximada luego de 5 horas y 30 minutos de haber iniciado el experimento?"
   ]
  },
  {
   "cell_type": "markdown",
   "metadata": {},
   "source": [
    "* ¿Cuál es la temperatura más alta alcanzada durante el experimento?"
   ]
  },
  {
   "cell_type": "markdown",
   "metadata": {},
   "source": [
    "* Si se sabe que la temeperatura mínima se alcanza 4 horas después de haber iniciado el experimento, calcule cuántas horas deben pasar luego de haber iniciado el experimento para que la temperatura sea maximizada."
   ]
  },
  {
   "cell_type": "markdown",
   "metadata": {},
   "source": [
    "* ¿Cuántas veces la temperatura del ambiente alcanza los $83.1°F$ en el transcurso de 24 horas?"
   ]
  },
  {
   "cell_type": "markdown",
   "metadata": {},
   "source": [
    "Para la interacción con el cuaderno se requiere importar una serie de librerías de Python:"
   ]
  },
  {
   "cell_type": "code",
   "execution_count": 19,
   "metadata": {},
   "outputs": [],
   "source": [
    "import matplotlib.pyplot as plt\n",
    "import numpy as np"
   ]
  },
  {
   "cell_type": "code",
   "execution_count": 20,
   "metadata": {},
   "outputs": [],
   "source": [
    "# Se define una variable que almacena los valores en el tiempo\n",
    "tiempo = np.round(np.linspace(0,48,490*2),1)\n",
    "\n",
    "# Se declara la función\n",
    "Temperatura = 72 - 19* np.cos((np.pi/12)*(tiempo-4))"
   ]
  },
  {
   "cell_type": "code",
   "execution_count": 21,
   "metadata": {},
   "outputs": [
    {
     "data": {
      "application/vnd.jupyter.widget-view+json": {
       "model_id": "c86659cfaea94451a542947620e130d2",
       "version_major": 2,
       "version_minor": 0
      },
      "text/plain": [
       "Canvas(toolbar=Toolbar(toolitems=[('Home', 'Reset original view', 'home', 'home'), ('Back', 'Back to previous …"
      ]
     },
     "metadata": {},
     "output_type": "display_data"
    }
   ],
   "source": [
    "# Se genera un gráfico de la función en cuestión\n",
    "fig, ax = plt.subplots(figsize = (12,6))\n",
    "# Se fijan los límites de la gráfica\n",
    "ax.set_ylim([50,95])\n",
    "ax.set_xlim([0,48])\n",
    "# Se agregan líneas guía\n",
    "ax.grid(True)\n",
    "\n",
    "# Se agrega un título y leyendas a los ejes\n",
    "plt.title(\"Temperatura Ambiente vs Tiempo\")\n",
    "plt.xlabel(\"Horas [h]\")\n",
    "plt.ylabel(\"Temperatura [°F]\")\n",
    "\n",
    "# Se grafica\n",
    "ax.plot(# Valores del eje x en horas\n",
    "        tiempo, \n",
    "        # Valores del eje y en °F\n",
    "        Temperatura, \n",
    "        # Color de la línea\n",
    "        'k')\n",
    "\n",
    "# Se cambia la resolución del eje x\n",
    "ax.xaxis.set_ticks(np.arange(0, 48, 1))\n",
    "\n",
    "# Se rotan las etiquetas de los ejes\n",
    "plt.xticks(rotation=90)\n",
    "\n",
    "plt.show()"
   ]
  },
  {
   "cell_type": "code",
   "execution_count": 22,
   "metadata": {},
   "outputs": [],
   "source": [
    "# %matplotlib widget\n",
    "# import ipywidgets as widgets\n",
    "\n",
    "# # Se genera un gráfico de la función en cuestión\n",
    "# fig, ax = plt.subplots(figsize = (12,6))\n",
    "# # Se fijan los límites de la gráfica\n",
    "# ax.set_ylim([50,95])\n",
    "# # Se agregan líneas guía\n",
    "# ax.grid(True)\n",
    "\n",
    "# # Se agrega un título y leyendas a los ejes\n",
    "# plt.title(\"Temperatura Ambiente vs Tiempo\")\n",
    "# plt.xlabel(\"Horas [h]\")\n",
    "# plt.ylabel(\"Temperatura [°F]\")\n",
    "# plt.show()\n",
    "\n",
    "# # Se agrega una función que permite ir recorriendo los instantes de tiempo \n",
    "# # para mejorar la exploración del objeto:\n",
    "# def linea_guia(t):\n",
    "#     \"\"\" \n",
    "#     Función para dibujar una línea guía sobre la gráfica\n",
    "#     \"\"\"\n",
    "#     return t\n",
    "\n",
    "# @widgets.interact(t = (0,48,0.5))\n",
    "# def actualizar_grafica(t = 0):\n",
    "#     \"\"\"\n",
    "#     Función para actualizar la línea vertical sobre la gráfica\n",
    "#     \"\"\"\n",
    "#     # Permite mantener limpia la gráfica\n",
    "#     [l.remove() for l in ax.lines]\n",
    "\n",
    "#     # Se grafica\n",
    "#     ax.plot(# Valores del eje x en horas\n",
    "#             tiempo, \n",
    "#             # Valores del eje y en °F\n",
    "#             Temperatura, \n",
    "#             # Color de la línea\n",
    "#             'k')\n",
    "\n",
    "#     # Grafica la línea guía de color rojo\n",
    "#     ax.axvline(x = linea_guia(t), color = 'r')"
   ]
  }
 ],
 "metadata": {
  "interpreter": {
   "hash": "6e5176428897f4c0f689a9c2cd27f994a85f5db24238f0a42816fe66090316d2"
  },
  "kernelspec": {
   "display_name": "Python 3.10.0 64-bit ('pyMCI01': conda)",
   "language": "python",
   "name": "python3"
  },
  "language_info": {
   "codemirror_mode": {
    "name": "ipython",
    "version": 3
   },
   "file_extension": ".py",
   "mimetype": "text/x-python",
   "name": "python",
   "nbconvert_exporter": "python",
   "pygments_lexer": "ipython3",
   "version": "3.10.0"
  },
  "orig_nbformat": 4
 },
 "nbformat": 4,
 "nbformat_minor": 2
}
