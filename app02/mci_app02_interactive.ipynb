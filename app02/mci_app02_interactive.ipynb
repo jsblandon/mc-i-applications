{
  "nbformat": 4,
  "nbformat_minor": 0,
  "metadata": {
    "colab": {
      "name": "mci_app02_interactive.ipynb",
      "provenance": [],
      "collapsed_sections": [],
      "authorship_tag": "ABX9TyNAQwgZDkzamYh2REUyXKy2",
      "include_colab_link": true
    },
    "kernelspec": {
      "name": "python3",
      "display_name": "Python 3"
    },
    "language_info": {
      "name": "python"
    },
    "widgets": {
      "application/vnd.jupyter.widget-state+json": {
        "7a4ae05f33264e1d861d1437e4460401": {
          "model_module": "@jupyter-widgets/controls",
          "model_name": "VBoxModel",
          "model_module_version": "1.5.0",
          "state": {
            "_view_name": "VBoxView",
            "_dom_classes": [
              "widget-interact"
            ],
            "_model_name": "VBoxModel",
            "_view_module": "@jupyter-widgets/controls",
            "_model_module_version": "1.5.0",
            "_view_count": null,
            "_view_module_version": "1.5.0",
            "box_style": "",
            "layout": "IPY_MODEL_5cd1e290f7d846f48d85df70569d9155",
            "_model_module": "@jupyter-widgets/controls",
            "children": [
              "IPY_MODEL_6e97dc126e7d4e358c476912b29f2af0",
              "IPY_MODEL_20816aee8adf4f6cad3ed09a28ba1b0a"
            ]
          }
        },
        "5cd1e290f7d846f48d85df70569d9155": {
          "model_module": "@jupyter-widgets/base",
          "model_name": "LayoutModel",
          "model_module_version": "1.2.0",
          "state": {
            "_view_name": "LayoutView",
            "grid_template_rows": null,
            "right": null,
            "justify_content": null,
            "_view_module": "@jupyter-widgets/base",
            "overflow": null,
            "_model_module_version": "1.2.0",
            "_view_count": null,
            "flex_flow": null,
            "width": null,
            "min_width": null,
            "border": null,
            "align_items": null,
            "bottom": null,
            "_model_module": "@jupyter-widgets/base",
            "top": null,
            "grid_column": null,
            "overflow_y": null,
            "overflow_x": null,
            "grid_auto_flow": null,
            "grid_area": null,
            "grid_template_columns": null,
            "flex": null,
            "_model_name": "LayoutModel",
            "justify_items": null,
            "grid_row": null,
            "max_height": null,
            "align_content": null,
            "visibility": null,
            "align_self": null,
            "height": null,
            "min_height": null,
            "padding": null,
            "grid_auto_rows": null,
            "grid_gap": null,
            "max_width": null,
            "order": null,
            "_view_module_version": "1.2.0",
            "grid_template_areas": null,
            "object_position": null,
            "object_fit": null,
            "grid_auto_columns": null,
            "margin": null,
            "display": null,
            "left": null
          }
        },
        "6e97dc126e7d4e358c476912b29f2af0": {
          "model_module": "@jupyter-widgets/controls",
          "model_name": "FloatSliderModel",
          "model_module_version": "1.5.0",
          "state": {
            "_view_name": "FloatSliderView",
            "style": "IPY_MODEL_7f8e9fd16e884d18a78678d5216f2870",
            "_dom_classes": [],
            "description": "A",
            "step": 0.1,
            "_model_name": "FloatSliderModel",
            "orientation": "horizontal",
            "max": 1,
            "_view_module": "@jupyter-widgets/controls",
            "_model_module_version": "1.5.0",
            "value": 0.2,
            "_view_count": null,
            "disabled": false,
            "_view_module_version": "1.5.0",
            "min": 0,
            "continuous_update": true,
            "readout_format": ".2f",
            "description_tooltip": null,
            "readout": true,
            "_model_module": "@jupyter-widgets/controls",
            "layout": "IPY_MODEL_3493e531541543d98e70bcea89293965"
          }
        },
        "20816aee8adf4f6cad3ed09a28ba1b0a": {
          "model_module": "@jupyter-widgets/output",
          "model_name": "OutputModel",
          "model_module_version": "1.0.0",
          "state": {
            "_view_name": "OutputView",
            "msg_id": "",
            "_dom_classes": [],
            "_model_name": "OutputModel",
            "outputs": [
              {
                "output_type": "display_data",
                "data": {
                  "image/png": "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\n",
                  "text/plain": "<Figure size 864x432 with 1 Axes>"
                },
                "metadata": {}
              }
            ],
            "_view_module": "@jupyter-widgets/output",
            "_model_module_version": "1.0.0",
            "_view_count": null,
            "_view_module_version": "1.0.0",
            "layout": "IPY_MODEL_f2c2602ac37046c2ac653490e15f71c4",
            "_model_module": "@jupyter-widgets/output"
          }
        },
        "7f8e9fd16e884d18a78678d5216f2870": {
          "model_module": "@jupyter-widgets/controls",
          "model_name": "SliderStyleModel",
          "model_module_version": "1.5.0",
          "state": {
            "_view_name": "StyleView",
            "handle_color": null,
            "_model_name": "SliderStyleModel",
            "description_width": "",
            "_view_module": "@jupyter-widgets/base",
            "_model_module_version": "1.5.0",
            "_view_count": null,
            "_view_module_version": "1.2.0",
            "_model_module": "@jupyter-widgets/controls"
          }
        },
        "3493e531541543d98e70bcea89293965": {
          "model_module": "@jupyter-widgets/base",
          "model_name": "LayoutModel",
          "model_module_version": "1.2.0",
          "state": {
            "_view_name": "LayoutView",
            "grid_template_rows": null,
            "right": null,
            "justify_content": null,
            "_view_module": "@jupyter-widgets/base",
            "overflow": null,
            "_model_module_version": "1.2.0",
            "_view_count": null,
            "flex_flow": null,
            "width": null,
            "min_width": null,
            "border": null,
            "align_items": null,
            "bottom": null,
            "_model_module": "@jupyter-widgets/base",
            "top": null,
            "grid_column": null,
            "overflow_y": null,
            "overflow_x": null,
            "grid_auto_flow": null,
            "grid_area": null,
            "grid_template_columns": null,
            "flex": null,
            "_model_name": "LayoutModel",
            "justify_items": null,
            "grid_row": null,
            "max_height": null,
            "align_content": null,
            "visibility": null,
            "align_self": null,
            "height": null,
            "min_height": null,
            "padding": null,
            "grid_auto_rows": null,
            "grid_gap": null,
            "max_width": null,
            "order": null,
            "_view_module_version": "1.2.0",
            "grid_template_areas": null,
            "object_position": null,
            "object_fit": null,
            "grid_auto_columns": null,
            "margin": null,
            "display": null,
            "left": null
          }
        },
        "f2c2602ac37046c2ac653490e15f71c4": {
          "model_module": "@jupyter-widgets/base",
          "model_name": "LayoutModel",
          "model_module_version": "1.2.0",
          "state": {
            "_view_name": "LayoutView",
            "grid_template_rows": null,
            "right": null,
            "justify_content": null,
            "_view_module": "@jupyter-widgets/base",
            "overflow": null,
            "_model_module_version": "1.2.0",
            "_view_count": null,
            "flex_flow": null,
            "width": null,
            "min_width": null,
            "border": null,
            "align_items": null,
            "bottom": null,
            "_model_module": "@jupyter-widgets/base",
            "top": null,
            "grid_column": null,
            "overflow_y": null,
            "overflow_x": null,
            "grid_auto_flow": null,
            "grid_area": null,
            "grid_template_columns": null,
            "flex": null,
            "_model_name": "LayoutModel",
            "justify_items": null,
            "grid_row": null,
            "max_height": null,
            "align_content": null,
            "visibility": null,
            "align_self": null,
            "height": null,
            "min_height": null,
            "padding": null,
            "grid_auto_rows": null,
            "grid_gap": null,
            "max_width": null,
            "order": null,
            "_view_module_version": "1.2.0",
            "grid_template_areas": null,
            "object_position": null,
            "object_fit": null,
            "grid_auto_columns": null,
            "margin": null,
            "display": null,
            "left": null
          }
        },
        "9d7371fa5bc44387ac845d61a13c66a7": {
          "model_module": "@jupyter-widgets/controls",
          "model_name": "VBoxModel",
          "model_module_version": "1.5.0",
          "state": {
            "_view_name": "VBoxView",
            "_dom_classes": [
              "widget-interact"
            ],
            "_model_name": "VBoxModel",
            "_view_module": "@jupyter-widgets/controls",
            "_model_module_version": "1.5.0",
            "_view_count": null,
            "_view_module_version": "1.5.0",
            "box_style": "",
            "layout": "IPY_MODEL_d2792bbd96bd45e7901605cb0957b575",
            "_model_module": "@jupyter-widgets/controls",
            "children": [
              "IPY_MODEL_aa065afec98e433c8ca63c6b7db95943",
              "IPY_MODEL_3f9bb4697ad949979f9e6a99bce15ab3",
              "IPY_MODEL_a111a8ea48414e3392a9bc3143709c71"
            ]
          }
        },
        "d2792bbd96bd45e7901605cb0957b575": {
          "model_module": "@jupyter-widgets/base",
          "model_name": "LayoutModel",
          "model_module_version": "1.2.0",
          "state": {
            "_view_name": "LayoutView",
            "grid_template_rows": null,
            "right": null,
            "justify_content": null,
            "_view_module": "@jupyter-widgets/base",
            "overflow": null,
            "_model_module_version": "1.2.0",
            "_view_count": null,
            "flex_flow": null,
            "width": null,
            "min_width": null,
            "border": null,
            "align_items": null,
            "bottom": null,
            "_model_module": "@jupyter-widgets/base",
            "top": null,
            "grid_column": null,
            "overflow_y": null,
            "overflow_x": null,
            "grid_auto_flow": null,
            "grid_area": null,
            "grid_template_columns": null,
            "flex": null,
            "_model_name": "LayoutModel",
            "justify_items": null,
            "grid_row": null,
            "max_height": null,
            "align_content": null,
            "visibility": null,
            "align_self": null,
            "height": null,
            "min_height": null,
            "padding": null,
            "grid_auto_rows": null,
            "grid_gap": null,
            "max_width": null,
            "order": null,
            "_view_module_version": "1.2.0",
            "grid_template_areas": null,
            "object_position": null,
            "object_fit": null,
            "grid_auto_columns": null,
            "margin": null,
            "display": null,
            "left": null
          }
        },
        "aa065afec98e433c8ca63c6b7db95943": {
          "model_module": "@jupyter-widgets/controls",
          "model_name": "IntSliderModel",
          "model_module_version": "1.5.0",
          "state": {
            "_view_name": "IntSliderView",
            "style": "IPY_MODEL_aff5a63a07a24ee7845479c6b0a6f4cb",
            "_dom_classes": [],
            "description": "A",
            "step": 1,
            "_model_name": "IntSliderModel",
            "orientation": "horizontal",
            "max": 8,
            "_view_module": "@jupyter-widgets/controls",
            "_model_module_version": "1.5.0",
            "value": 2,
            "_view_count": null,
            "disabled": false,
            "_view_module_version": "1.5.0",
            "min": 2,
            "continuous_update": true,
            "readout_format": "d",
            "description_tooltip": null,
            "readout": true,
            "_model_module": "@jupyter-widgets/controls",
            "layout": "IPY_MODEL_6859c7880eb04c02860298f9a12e1400"
          }
        },
        "3f9bb4697ad949979f9e6a99bce15ab3": {
          "model_module": "@jupyter-widgets/controls",
          "model_name": "IntSliderModel",
          "model_module_version": "1.5.0",
          "state": {
            "_view_name": "IntSliderView",
            "style": "IPY_MODEL_955a50f3b8994907bce5125405fa81d7",
            "_dom_classes": [],
            "description": "B",
            "step": 1,
            "_model_name": "IntSliderModel",
            "orientation": "horizontal",
            "max": 8,
            "_view_module": "@jupyter-widgets/controls",
            "_model_module_version": "1.5.0",
            "value": 2,
            "_view_count": null,
            "disabled": false,
            "_view_module_version": "1.5.0",
            "min": 2,
            "continuous_update": true,
            "readout_format": "d",
            "description_tooltip": null,
            "readout": true,
            "_model_module": "@jupyter-widgets/controls",
            "layout": "IPY_MODEL_fe79fd3048e141b5a88b905e5e5fb438"
          }
        },
        "a111a8ea48414e3392a9bc3143709c71": {
          "model_module": "@jupyter-widgets/output",
          "model_name": "OutputModel",
          "model_module_version": "1.0.0",
          "state": {
            "_view_name": "OutputView",
            "msg_id": "",
            "_dom_classes": [],
            "_model_name": "OutputModel",
            "outputs": [
              {
                "output_type": "display_data",
                "data": {
                  "image/png": "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\n",
                  "text/plain": "<Figure size 864x432 with 1 Axes>"
                },
                "metadata": {}
              }
            ],
            "_view_module": "@jupyter-widgets/output",
            "_model_module_version": "1.0.0",
            "_view_count": null,
            "_view_module_version": "1.0.0",
            "layout": "IPY_MODEL_9f963937644d41f88f583505988e879c",
            "_model_module": "@jupyter-widgets/output"
          }
        },
        "aff5a63a07a24ee7845479c6b0a6f4cb": {
          "model_module": "@jupyter-widgets/controls",
          "model_name": "SliderStyleModel",
          "model_module_version": "1.5.0",
          "state": {
            "_view_name": "StyleView",
            "handle_color": null,
            "_model_name": "SliderStyleModel",
            "description_width": "",
            "_view_module": "@jupyter-widgets/base",
            "_model_module_version": "1.5.0",
            "_view_count": null,
            "_view_module_version": "1.2.0",
            "_model_module": "@jupyter-widgets/controls"
          }
        },
        "6859c7880eb04c02860298f9a12e1400": {
          "model_module": "@jupyter-widgets/base",
          "model_name": "LayoutModel",
          "model_module_version": "1.2.0",
          "state": {
            "_view_name": "LayoutView",
            "grid_template_rows": null,
            "right": null,
            "justify_content": null,
            "_view_module": "@jupyter-widgets/base",
            "overflow": null,
            "_model_module_version": "1.2.0",
            "_view_count": null,
            "flex_flow": null,
            "width": null,
            "min_width": null,
            "border": null,
            "align_items": null,
            "bottom": null,
            "_model_module": "@jupyter-widgets/base",
            "top": null,
            "grid_column": null,
            "overflow_y": null,
            "overflow_x": null,
            "grid_auto_flow": null,
            "grid_area": null,
            "grid_template_columns": null,
            "flex": null,
            "_model_name": "LayoutModel",
            "justify_items": null,
            "grid_row": null,
            "max_height": null,
            "align_content": null,
            "visibility": null,
            "align_self": null,
            "height": null,
            "min_height": null,
            "padding": null,
            "grid_auto_rows": null,
            "grid_gap": null,
            "max_width": null,
            "order": null,
            "_view_module_version": "1.2.0",
            "grid_template_areas": null,
            "object_position": null,
            "object_fit": null,
            "grid_auto_columns": null,
            "margin": null,
            "display": null,
            "left": null
          }
        },
        "955a50f3b8994907bce5125405fa81d7": {
          "model_module": "@jupyter-widgets/controls",
          "model_name": "SliderStyleModel",
          "model_module_version": "1.5.0",
          "state": {
            "_view_name": "StyleView",
            "handle_color": null,
            "_model_name": "SliderStyleModel",
            "description_width": "",
            "_view_module": "@jupyter-widgets/base",
            "_model_module_version": "1.5.0",
            "_view_count": null,
            "_view_module_version": "1.2.0",
            "_model_module": "@jupyter-widgets/controls"
          }
        },
        "fe79fd3048e141b5a88b905e5e5fb438": {
          "model_module": "@jupyter-widgets/base",
          "model_name": "LayoutModel",
          "model_module_version": "1.2.0",
          "state": {
            "_view_name": "LayoutView",
            "grid_template_rows": null,
            "right": null,
            "justify_content": null,
            "_view_module": "@jupyter-widgets/base",
            "overflow": null,
            "_model_module_version": "1.2.0",
            "_view_count": null,
            "flex_flow": null,
            "width": null,
            "min_width": null,
            "border": null,
            "align_items": null,
            "bottom": null,
            "_model_module": "@jupyter-widgets/base",
            "top": null,
            "grid_column": null,
            "overflow_y": null,
            "overflow_x": null,
            "grid_auto_flow": null,
            "grid_area": null,
            "grid_template_columns": null,
            "flex": null,
            "_model_name": "LayoutModel",
            "justify_items": null,
            "grid_row": null,
            "max_height": null,
            "align_content": null,
            "visibility": null,
            "align_self": null,
            "height": null,
            "min_height": null,
            "padding": null,
            "grid_auto_rows": null,
            "grid_gap": null,
            "max_width": null,
            "order": null,
            "_view_module_version": "1.2.0",
            "grid_template_areas": null,
            "object_position": null,
            "object_fit": null,
            "grid_auto_columns": null,
            "margin": null,
            "display": null,
            "left": null
          }
        },
        "9f963937644d41f88f583505988e879c": {
          "model_module": "@jupyter-widgets/base",
          "model_name": "LayoutModel",
          "model_module_version": "1.2.0",
          "state": {
            "_view_name": "LayoutView",
            "grid_template_rows": null,
            "right": null,
            "justify_content": null,
            "_view_module": "@jupyter-widgets/base",
            "overflow": null,
            "_model_module_version": "1.2.0",
            "_view_count": null,
            "flex_flow": null,
            "width": null,
            "min_width": null,
            "border": null,
            "align_items": null,
            "bottom": null,
            "_model_module": "@jupyter-widgets/base",
            "top": null,
            "grid_column": null,
            "overflow_y": null,
            "overflow_x": null,
            "grid_auto_flow": null,
            "grid_area": null,
            "grid_template_columns": null,
            "flex": null,
            "_model_name": "LayoutModel",
            "justify_items": null,
            "grid_row": null,
            "max_height": null,
            "align_content": null,
            "visibility": null,
            "align_self": null,
            "height": null,
            "min_height": null,
            "padding": null,
            "grid_auto_rows": null,
            "grid_gap": null,
            "max_width": null,
            "order": null,
            "_view_module_version": "1.2.0",
            "grid_template_areas": null,
            "object_position": null,
            "object_fit": null,
            "grid_auto_columns": null,
            "margin": null,
            "display": null,
            "left": null
          }
        }
      }
    }
  },
  "cells": [
    {
      "cell_type": "markdown",
      "metadata": {
        "id": "view-in-github",
        "colab_type": "text"
      },
      "source": [
        "<a href=\"https://colab.research.google.com/github/jsblandon/mc-i-applications/blob/main/app02/mci_app02_interactive.ipynb\" target=\"_parent\"><img src=\"https://colab.research.google.com/assets/colab-badge.svg\" alt=\"Open In Colab\"/></a>"
      ]
    },
    {
      "cell_type": "markdown",
      "source": [
        "# <center> Aplicación 02 - Métodos Cuantitativos I</center>\n",
        "## <center> Ingeniería Agroambiental </center>\n",
        "###  <center> Universidad Tecnológica - UTEC </center>\n",
        "### <center> Juan Blandón </center>\n",
        "<center> 2022 - I </center>"
      ],
      "metadata": {
        "id": "kPRfzr9RqElz"
      }
    },
    {
      "cell_type": "markdown",
      "source": [
        "En su forma más básica las funciones trigonométricas $sen(t)$ y $cos(t)$ tienen como propiedad la **periodicidad**, esto es:\n",
        "\n",
        "$$sen(t + 2n\\pi) = sen(t) \\quad \\textrm{para cuaquier entero } n,$$\n",
        "\n",
        "$$cos(t + 2n\\pi) = cos(t) \\quad \\textrm{para cuaquier entero } n,$$\n",
        "\n",
        "conforme lo anterior una función es **períodica** si hay un número positivo $p$ tal que  $f(t+p) = f(t)$ para toda $t$. Así, el mínimo número tal número positivo se conoce como el **período**."
      ],
      "metadata": {
        "id": "0WUWPZl6qT4O"
      }
    },
    {
      "cell_type": "markdown",
      "source": [
        "En este cuaderno interactivo tendrán la oportunidad de interactuar con los parámetros de una función trigonométrica en distintos escenarios. En el primer ejemplo veremos el impacto de la **amplitud** y el período en la generación de una función seno. En el segundo escenario se replica uno de los ejemplos del ejercicio 7 del capítulo 5 del libro de Precalculo de Stewart. En esta parte entenderemos lo que implica sumar funciones trigonométricas."
      ],
      "metadata": {
        "id": "NjeqQyWE1j2H"
      }
    },
    {
      "cell_type": "markdown",
      "source": [
        "*   En el Ejemplo I varíe con el botón la amplitud de la función seno. También cambie el valor de $\\texttt{n}$ teniendo en cuenta que **sean números enteros**. Concluya al respecto en los distintos escenarios. Si desea agregue imágenes al documento.\n",
        "\n",
        "*   En el ejemplo II varíe la amplitud de ambas funciones trigonométricas. Adicionalmente, si así lo requiere, varíe el valor del período representado por $\\texttt{n}$. Concluya al respecto en los distintos escenarios. Si desea agregue imágenes al documento."
      ],
      "metadata": {
        "id": "7zlzlGqNr1vs"
      }
    },
    {
      "cell_type": "markdown",
      "source": [
        "---\n",
        "\n",
        "# **Librerías**\n",
        "\n",
        "---"
      ],
      "metadata": {
        "id": "TcdOpg7XPRtH"
      }
    },
    {
      "cell_type": "code",
      "source": [
        "# Librerías a importar\n",
        "import numpy as np\n",
        "import matplotlib.pyplot as plt\n",
        "import seaborn as sb\n",
        "import ipywidgets as widgets\n",
        "from fractions import Fraction as frac\n",
        "from matplotlib.ticker import FuncFormatter, MultipleLocator\n",
        "from ipywidgets import interact, interactive, fixed, interact_manual"
      ],
      "metadata": {
        "id": "onSMx-ioqTFX"
      },
      "execution_count": null,
      "outputs": []
    },
    {
      "cell_type": "code",
      "source": [
        "# Se fijan los parámetros fijos para graficar con Seaborn\n",
        "sb.set_style('whitegrid', {'grid.linestyle': '--'})\n",
        "sb.set_palette(\"dark\")"
      ],
      "metadata": {
        "id": "CxFWmo7lO3_n"
      },
      "execution_count": null,
      "outputs": []
    },
    {
      "cell_type": "markdown",
      "source": [
        "---\n",
        "\n",
        "# **Funciones**\n",
        "\n",
        "---"
      ],
      "metadata": {
        "id": "kjjB_8vJPI2Y"
      }
    },
    {
      "cell_type": "code",
      "source": [
        "def pi_axis_formatter(val, pos, denomlim=10, pi=r'\\pi'):\n",
        "    r\"\"\" Function to format x-axis\n",
        "\n",
        "    This function sets the x-ticks as π multiples. The function is designed by\n",
        "    taxus-d and it is take from their repo:\n",
        "\n",
        "    https://gist.github.com/taxus-d/aa69e43c3d8b804864ede4a8c056e9cd\n",
        "\n",
        "    Example:\n",
        "\n",
        "    format label properly\n",
        "    for example: 0.6666 pi --> 2π/3\n",
        "               : 0      pi --> 0\n",
        "               : 0.50   pi --> π/2  \n",
        "    \"\"\"\n",
        "    \n",
        "    minus = \"-\" if val < 0 else \"\"\n",
        "    val = abs(val)\n",
        "    ratio = frac(val/np.pi).limit_denominator(denomlim)\n",
        "    n, d = ratio.numerator, ratio.denominator\n",
        "    \n",
        "    fmt2 = \"%s\" % d \n",
        "    if n == 0:\n",
        "        fmt1 = \"0\"\n",
        "    elif n == 1:\n",
        "        fmt1 = pi\n",
        "    else:\n",
        "        fmt1 = r\"%s%s\" % (n,pi)\n",
        "        \n",
        "    fmtstring = \"$\" + minus + (fmt1 if d == 1 else r\"{%s}/{%s}\" % (fmt1, fmt2)) + \"$\"\n",
        "    \n",
        "    return fmtstring"
      ],
      "metadata": {
        "id": "NRiXeliLzegb"
      },
      "execution_count": null,
      "outputs": []
    },
    {
      "cell_type": "code",
      "source": [
        "def manipulate_sin(t, n, A=1):\n",
        "    r\"\"\" Function to manipulate a sine wave\n",
        "\n",
        "    This function can generate a sine wave based on the expression:\n",
        "\n",
        "    y = Asin(t)\n",
        "\n",
        "    Receives:\n",
        "    --------\n",
        "\n",
        "    t : np.array\n",
        "        Array of values to get the sine wave plot\n",
        "\n",
        "    n : int\n",
        "        Period value\n",
        "\n",
        "    A : float\n",
        "        Amplitude of sine wave\n",
        "\n",
        "    Returns:\n",
        "    --------\n",
        "\n",
        "    Void output\n",
        "    \"\"\"\n",
        "\n",
        "    # Parámetros iniciales de la gráfica\n",
        "    plt.figure(figsize=(12,6))\n",
        "    ax = plt.gca()\n",
        "    ax.set_aspect('equal')\n",
        "\n",
        "    # Vector de salida\n",
        "    y = A * np.sin(t)\n",
        "\n",
        "    # Gráfica\n",
        "    plt.plot(t,y)\n",
        "    plt.axhline(y=0, color=\"black\", linestyle=\"--\")\n",
        "    plt.ylim(-1.5,1.5)\n",
        "    plt.xlabel('t')\n",
        "    plt.ylabel('y(t)')\n",
        "\n",
        "    plt.title(str(A) + \"$\\cdot$sin(t+\" + str(2*n) + \"$\\pi$)\")\n",
        "\n",
        "    # Se fija por defecto la subdivisión del eje x\n",
        "    valor_marca = np.pi/2\n",
        "    # Se fijan las etiquetas de las marcas del eje x\n",
        "    ax.xaxis.set_major_formatter(FuncFormatter(pi_axis_formatter))\n",
        "    # Se fijan los números apropiados para las marcas\n",
        "    ax.xaxis.set_major_locator(MultipleLocator(base=valor_marca))\n",
        "\n",
        "    plt.grid(True)\n",
        "    plt.show()"
      ],
      "metadata": {
        "id": "qzVfoo0LRISP"
      },
      "execution_count": null,
      "outputs": []
    },
    {
      "cell_type": "code",
      "source": [
        "def operate_waves(x, A=2, B=1):\n",
        "    r\"\"\" Function to operate sine/cosine functions\n",
        "\n",
        "    Thus function allows to add or sustract sine and cosines based on the\n",
        "    expressions:\n",
        "\n",
        "        f(x) = 2cos(x)\n",
        "        g(x) = sen(2x)\n",
        "        h(x) = f(x) + g(x) = 2cos(x) + sen(2x)\n",
        "\n",
        "    Receives:\n",
        "    --------\n",
        "\n",
        "    x : np.array\n",
        "        Array of values to get the plots for each function\n",
        "\n",
        "    A : int\n",
        "        Amplitude f(x) function\n",
        "\n",
        "    B : int\n",
        "        Amplitude g(x) function\n",
        "\n",
        "    Returns:\n",
        "    --------\n",
        "\n",
        "    Void output\n",
        "    \"\"\"\n",
        "\n",
        "    # Parámetros iniciales de la gráfica\n",
        "    plt.figure(figsize=(12,6))\n",
        "    ax = plt.gca()\n",
        "    ax.set_aspect('equal')\n",
        "\n",
        "    # Vector de salida\n",
        "    f = A * np.cos(x)\n",
        "    g = B*np.sin(2*x)\n",
        "    h = f + g\n",
        "\n",
        "    # Gráfica\n",
        "    plt.plot(x,f,label = '$f(x)$')\n",
        "    plt.plot(x,g,label = '$g(x)$')\n",
        "    plt.plot(x,h,label = '$h(x)$')\n",
        "    plt.axhline(y=0, color=\"black\", linestyle=\"--\")\n",
        "    plt.ylim(-8,8)\n",
        "    plt.xlabel('x')\n",
        "    plt.ylabel('y(x)')\n",
        "\n",
        "    plt.title(str(A) + \"$\\cdot$cos(x) + \" + str(B) + \"$\\cdot$sin(2x)\")\n",
        "\n",
        "    # Se fija por defecto la subdivisión del eje x\n",
        "    valor_marca = np.pi/2\n",
        "    # Se fijan las etiquetas de las marcas del eje x\n",
        "    ax.xaxis.set_major_formatter(FuncFormatter(pi_axis_formatter))\n",
        "    # Se fijan los números apropiados para las marcas\n",
        "    ax.xaxis.set_major_locator(MultipleLocator(base=valor_marca))\n",
        "\n",
        "    plt.grid(True)\n",
        "    plt.legend()\n",
        "    plt.show()"
      ],
      "metadata": {
        "id": "p7XXe-b1kYv-"
      },
      "execution_count": null,
      "outputs": []
    },
    {
      "cell_type": "markdown",
      "source": [
        "---\n",
        "\n",
        "# **Ejercicio I**\n",
        "\n",
        "---"
      ],
      "metadata": {
        "id": "OroqtJWymt6P"
      }
    },
    {
      "cell_type": "code",
      "source": [
        "# Gráfica interactiva\n",
        "n = 2\n",
        "t = np.linspace(0,2*n*np.pi, 1000)  # Valores del conjunto de partida\n",
        "\n",
        "grafica_interactiva = interactive(# Función a convertir a interactiva\n",
        "                                  manipulate_sin,\n",
        "                                  # ¿Es dinámico o estático el parámetro de los \n",
        "                                  # valores de entrada?\n",
        "                                  t = fixed(t),\n",
        "                                  # ¿Es dinámico o estático el parámetro de los \n",
        "                                  # valores del período?\n",
        "                                  n = fixed(n),\n",
        "                                  # ¿Es dinámica o estática la amplitud del seno?\n",
        "                                  A = (0,1,0.1))\n",
        "\n",
        "salida = grafica_interactiva.children[-1]\n",
        "grafica_interactiva"
      ],
      "metadata": {
        "colab": {
          "base_uri": "https://localhost:8080/",
          "height": 260,
          "referenced_widgets": [
            "7a4ae05f33264e1d861d1437e4460401",
            "5cd1e290f7d846f48d85df70569d9155",
            "6e97dc126e7d4e358c476912b29f2af0",
            "20816aee8adf4f6cad3ed09a28ba1b0a",
            "7f8e9fd16e884d18a78678d5216f2870",
            "3493e531541543d98e70bcea89293965",
            "f2c2602ac37046c2ac653490e15f71c4"
          ]
        },
        "id": "4E5-JYc5U73F",
        "outputId": "bf5b16f2-d861-4787-ecfc-0ee99bc73975"
      },
      "execution_count": null,
      "outputs": [
        {
          "output_type": "display_data",
          "data": {
            "application/vnd.jupyter.widget-view+json": {
              "model_id": "7a4ae05f33264e1d861d1437e4460401",
              "version_minor": 0,
              "version_major": 2
            },
            "text/plain": [
              "interactive(children=(FloatSlider(value=1.0, description='A', max=1.0), Output()), _dom_classes=('widget-inter…"
            ]
          },
          "metadata": {}
        }
      ]
    },
    {
      "cell_type": "markdown",
      "source": [
        "---\n",
        "\n",
        "# **Ejercicio II**\n",
        "\n",
        "---"
      ],
      "metadata": {
        "id": "M8-ClK7pm8q-"
      }
    },
    {
      "cell_type": "code",
      "source": [
        "# Gráfica interactiva\n",
        "n = 2\n",
        "x = np.linspace(0,2*n*np.pi, 1000)  # Valores del conjunto de partida\n",
        "\n",
        "grafica_interactiva_ii = interactive(# Función a convertir a interactiva\n",
        "                                     operate_waves,\n",
        "                                     # ¿Es dinámico o estático el parámetro de los \n",
        "                                     # valores de entrada?\n",
        "                                     x = fixed(x),\n",
        "                                     # ¿Es dinámica o estática la amplitud de f(x)?\n",
        "                                     A = (2,8,1),\n",
        "                                     # ¿Es dinámica o estática la amplitud de f(x)?\n",
        "                                     B = (2,8,1))\n",
        "\n",
        "salida_ii = grafica_interactiva_ii.children[-1]\n",
        "grafica_interactiva_ii"
      ],
      "metadata": {
        "colab": {
          "base_uri": "https://localhost:8080/",
          "height": 473,
          "referenced_widgets": [
            "9d7371fa5bc44387ac845d61a13c66a7",
            "d2792bbd96bd45e7901605cb0957b575",
            "aa065afec98e433c8ca63c6b7db95943",
            "3f9bb4697ad949979f9e6a99bce15ab3",
            "a111a8ea48414e3392a9bc3143709c71",
            "aff5a63a07a24ee7845479c6b0a6f4cb",
            "6859c7880eb04c02860298f9a12e1400",
            "955a50f3b8994907bce5125405fa81d7",
            "fe79fd3048e141b5a88b905e5e5fb438",
            "9f963937644d41f88f583505988e879c"
          ]
        },
        "id": "kYR8UX8abvKu",
        "outputId": "aaae5fbc-bea7-47f9-884c-425292dd9d6d"
      },
      "execution_count": null,
      "outputs": [
        {
          "output_type": "display_data",
          "data": {
            "application/vnd.jupyter.widget-view+json": {
              "model_id": "9d7371fa5bc44387ac845d61a13c66a7",
              "version_minor": 0,
              "version_major": 2
            },
            "text/plain": [
              "interactive(children=(IntSlider(value=2, description='A', max=8, min=2), IntSlider(value=2, description='B', m…"
            ]
          },
          "metadata": {}
        }
      ]
    },
    {
      "cell_type": "code",
      "source": [
        ""
      ],
      "metadata": {
        "id": "nk9jQ5caAidR"
      },
      "execution_count": null,
      "outputs": []
    }
  ]
}