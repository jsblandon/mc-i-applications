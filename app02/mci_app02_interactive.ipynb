{
  "nbformat": 4,
  "nbformat_minor": 0,
  "metadata": {
    "colab": {
      "name": "mci_app02_interactive.ipynb",
      "provenance": [],
      "collapsed_sections": [],
      "toc_visible": true,
      "authorship_tag": "ABX9TyN/t3Azlg7HbB+8x13Gl9pI",
      "include_colab_link": true
    },
    "kernelspec": {
      "name": "python3",
      "display_name": "Python 3"
    },
    "language_info": {
      "name": "python"
    },
    "widgets": {
      "application/vnd.jupyter.widget-state+json": {
        "22a0bfc530fd4b23b51472030f28906d": {
          "model_module": "@jupyter-widgets/controls",
          "model_name": "VBoxModel",
          "model_module_version": "1.5.0",
          "state": {
            "_view_name": "VBoxView",
            "_dom_classes": [
              "widget-interact"
            ],
            "_model_name": "VBoxModel",
            "_view_module": "@jupyter-widgets/controls",
            "_model_module_version": "1.5.0",
            "_view_count": null,
            "_view_module_version": "1.5.0",
            "box_style": "",
            "layout": "IPY_MODEL_82a7c0b199444e289a29433d139080d3",
            "_model_module": "@jupyter-widgets/controls",
            "children": [
              "IPY_MODEL_93f27261836b4e73959fe80f9dab0979",
              "IPY_MODEL_425182e1bf654f86901583a7361d92ba"
            ]
          }
        },
        "82a7c0b199444e289a29433d139080d3": {
          "model_module": "@jupyter-widgets/base",
          "model_name": "LayoutModel",
          "model_module_version": "1.2.0",
          "state": {
            "_view_name": "LayoutView",
            "grid_template_rows": null,
            "right": null,
            "justify_content": null,
            "_view_module": "@jupyter-widgets/base",
            "overflow": null,
            "_model_module_version": "1.2.0",
            "_view_count": null,
            "flex_flow": null,
            "width": null,
            "min_width": null,
            "border": null,
            "align_items": null,
            "bottom": null,
            "_model_module": "@jupyter-widgets/base",
            "top": null,
            "grid_column": null,
            "overflow_y": null,
            "overflow_x": null,
            "grid_auto_flow": null,
            "grid_area": null,
            "grid_template_columns": null,
            "flex": null,
            "_model_name": "LayoutModel",
            "justify_items": null,
            "grid_row": null,
            "max_height": null,
            "align_content": null,
            "visibility": null,
            "align_self": null,
            "height": null,
            "min_height": null,
            "padding": null,
            "grid_auto_rows": null,
            "grid_gap": null,
            "max_width": null,
            "order": null,
            "_view_module_version": "1.2.0",
            "grid_template_areas": null,
            "object_position": null,
            "object_fit": null,
            "grid_auto_columns": null,
            "margin": null,
            "display": null,
            "left": null
          }
        },
        "93f27261836b4e73959fe80f9dab0979": {
          "model_module": "@jupyter-widgets/controls",
          "model_name": "FloatSliderModel",
          "model_module_version": "1.5.0",
          "state": {
            "_view_name": "FloatSliderView",
            "style": "IPY_MODEL_eaf3375a24b74011bb5981b9f8771e75",
            "_dom_classes": [],
            "description": "A",
            "step": 0.1,
            "_model_name": "FloatSliderModel",
            "orientation": "horizontal",
            "max": 1,
            "_view_module": "@jupyter-widgets/controls",
            "_model_module_version": "1.5.0",
            "value": 1,
            "_view_count": null,
            "disabled": false,
            "_view_module_version": "1.5.0",
            "min": 0,
            "continuous_update": true,
            "readout_format": ".2f",
            "description_tooltip": null,
            "readout": true,
            "_model_module": "@jupyter-widgets/controls",
            "layout": "IPY_MODEL_b7ad4c96c8774200839aa9db49a0c6e0"
          }
        },
        "425182e1bf654f86901583a7361d92ba": {
          "model_module": "@jupyter-widgets/output",
          "model_name": "OutputModel",
          "model_module_version": "1.0.0",
          "state": {
            "_view_name": "OutputView",
            "msg_id": "",
            "_dom_classes": [],
            "_model_name": "OutputModel",
            "outputs": [
              {
                "output_type": "display_data",
                "data": {
                  "image/png": "iVBORw0KGgoAAAANSUhEUgAAAs8AAACLCAYAAACeJHTkAAAABHNCSVQICAgIfAhkiAAAAAlwSFlzAAALEgAACxIB0t1+/AAAADh0RVh0U29mdHdhcmUAbWF0cGxvdGxpYiB2ZXJzaW9uMy4yLjIsIGh0dHA6Ly9tYXRwbG90bGliLm9yZy+WH4yJAAAgAElEQVR4nOzdZ0AUV/v38S+9iCAggoqICij2GmNFsfcGGivYExM1GjXRJGpMNIlJTKJJjL3E3rvGhmKv2DuKiAoiIEU6O88LH/kndyg7sLsz6Pm8kgV2fnudnfFi9swZI0mSJARBEARBEARByJex0gEEQRAEQRAEoagQzbMgCIIgCIIgaEk0z4IgCIIgCIKgJdE8C4IgCIIgCIKWRPMsCIIgCIIgCFoSzbMgCIIgCIIgaEk0z4IgCIIgCIKgJdE8C4IgCIIgCIKWRPMsCIJQhHXq1IkzZ85o/fM//fQTy5cv118gLfj5+XH37l1FMwiCIBSUaJ4FQRB0ZNWqVfTs2ZPq1avz2Wef5fmzL1684MMPP6R27dq0bNmSnTt3Fmibu3fvpmHDhlr9bGxsLNu2beO9994DwNfXl5MnTxZouxEREQwfPpwGDRrQpEkTZsyYQWZmpla/O2TIEObOnVug7QqCIChNNM+CIAg6UqpUKUaNGkWvXr3y/dkZM2ZgZmbGiRMn+OGHH5g+fbrez8Zu2bIFHx8fLC0ttfr5efPmMW/evBy/99VXX+Ho6Mjx48fZtm0b586dY82aNVo9b6tWrThz5gzR0dFaZxcEQVAL0TwLgiDoSNu2bWndujUlSpTI8+eSk5PZv38/Y8eOpVixYtSvXx9fX1+2b9+e488vXLiQZs2aUadOHdq1a8epU6eyv/fPs8e+vr4sWbKELl26UK9ePT7++GPS0tKyfzY4OJgGDRoAMHHiRJ48ecL7779PnTp1WLRokazXGhERQYcOHbCwsMDJyYmmTZty7949ANLT06lbty7e3t7UqVOHOnXq4O3tTY0aNTh58iQWFhZUq1aN48ePy9qmIAiCGojmWRAEwcDCwsIwMTGhQoUK2Y9VqVIlu/n8p/v377N69Wo2bdpESEgIS5YsoWzZsrk+9969e1m8eDGHDh3i9u3bbNmyJft7d+7cyd7mDz/8QJkyZfjzzz8JCQlh+PDhsl5DQEAAu3fvJiUlhaioKI4dO0azZs0AMDc35/PPP6dRo0aEhIQQEhKCm5sbS5cupXHjxgBUqlSJW7duydqmIAiCGojmWRAEwcCSk5OxsbH512PFixfn5cuX2V8HBgYyb948TExMSE9PJzQ0lIyMDFxdXXFzc8v1uQcOHIizszMlSpSgZcuW3Lx5M/t7iYmJFCtWTCevoUGDBty7d4969erRvHlzqlevTuvWrbO/f+fOHby8vLJfb3h4ePbXAMWKFSMhIUEnWQRBEAxJNM+CIAgGZm1tTVJS0r8eS0pK+ldj27NnT959913Kly/PlClTmDdvHo0bN2bcuHFERUXl+txOTk7Z/7aysiI5OTn7a1tb23816DkZOXIk9evXp379+ixcuJCFCxdmfz1y5EgANBoNw4YNo02bNly6dInTp08THx/PDz/8kP08/2ye79y5g5OTE3Z2dtnff/nyJba2tnlmEQRBUCPRPAuCIBiYu7s7WVlZhIWFZT9269YtPDw8sr/u2rVr9vzkLl26sHbtWoKCgjAyMuLHH38s0HYrV678r23mZMGCBZw/f57z588zYsQIRowYkf31ggULgFcrhTx58oQBAwZgbm6Ovb09vXr1Ijg4OPt5/tk837p1619nnQFCQ0OpUqVKgV6HIAiCkkTzLAiCoCOZmZmkpaWh0WjIysoiLS0tx+XbrK2tadOmDXPnziU5OZkLFy5w6NAhunXr9p+fvX//PqdOnSI9PR1zc3MsLCwwNi7YodvHx4dz585lf12yZEkePXok+3kcHBxwdXVl7dq1ZGZmkpCQwNatW6lcuTLwakm82NjY7D8G7t+/j7u7e/bvp6Wlcf369ez5z4IgCEWJaJ4FQRB0ZP78+dSsWZOFCxeyY8cOatasyfz58wEYNmwYf/75Z/bPTps2jdTUVBo3bswnn3zC9OnT8fT0/M9zpqen89NPP9GwYUOaNm1KbGws48ePL1C+bt26cfToUVJTUwEYMWIE8+fPp379+ixZskTWc/32228cO3aMRo0a0aZNG0xNTZk8eTIAt2/fxs3NLXtJPGdnZ/bt28fly5cBOHz4MO+88w7Ozs4Feh2CIAhKMpIkSVI6hCAIgmAYc+bMwcHBgcDAQMUy+Pv7M3PmzP9M5RAEQSgKRPMsCIIgCIIgCFoS0zYEQRAEQRAEQUuieRYEQRAEQRAELYnmWRAEQRAEQRC0JJpnQRAEQRAEQdCSqdIB5Lh06RIWFhYG325mZiampuorlcgln1qziVzyiFzyiFzyiFzyiFzyiFzyKJkrLS2N2rVr/+dx9VUpDxYWFnh7ext8u7GxsTg4OBh8u/kRueRTazaRSx6RSx6RSx6RSx6RSx6RSx4lc928eTPHx8W0DS2YmZkpHSFHIpd8as0mcskjcskjcskjcskjcskjcsmjxlyiedZCRESE0hFyJHLJp9ZsIpc8Ipc8Ipc8Ipc8Ipc8Ipc8aswlmmdBEARBEARB0JJonrVga2urdIQciVzyqTWbyCWPyCWPyCWPyCWPyCWPyCWPGnMVqdtz37x5U5ELBrOysjAxMTH4dvMjcsmn1mwilzwilzwilzwilzwilzwilzxK5sqt7xRnnrVw584dpSPkSOSST63ZRC55RC55RC55RC55RC55RC551JhL0eZ58uTJNGrUiM6dOysZQxAEQRAEQRC0omjz3LNnTxYvXqxkBK2ocdFwELkKQq3ZRC55RC55RC55RC55RC55RC551JhL8TnPERERvP/+++zatSvfn1VqzrMgCIIgCILwdsmt71RfO69C9+/fp2LFiopmyMjI4ta954Q+jCXq+Uti4pKJi4vDyckRu+KWlCtji7trCSpXKomJibJT2dVQr9yoNZvSuTQaDfcfxnEr9DnPnr8kOjaZjIwsEhPjKefqTLnSdpR3taNKpZJYWiq/YL3S9cqNyJUzSZJ4EpnI9TvPePosiZi4ZF4mZ5CUFE+Z0qUo41ycCuVK4FnBETtbS8VyvqZ0vXIjcuXueexLrt1+xpPIRCKjk0hNy+TFizhcnJ0oXao4rqVtqerlhKO9taI5QR31yonIpb0i1TxnZmZm3yqxVKlSWFpaEh4eDoCNjQ2urq7cunULAGNjYypXrkxYWBgpKSkAVKhQgYSEBGJiYgBwdnbGzMwsewFuW1tbXFxcsienm5qa4unpSUJCQvZ2K1WqRGxsLHFxcQCULl0aY2NjHj9+DICdnR1OTk7cu3cPeHVnHA8PD+7du0dGRgYAHh4eREdHEx8fD0DZsmXRaDQ8ffoUAHt7e+zsSrB511mOnXvK6ZBn3Lr/gvT0rHxrZGVpSnUve1o2cqdXp+rYWLzEyMgIKysr3N3duX37NhqNBoAqVaoQERFBUlISAG5ubqSmpvLs2TMASpYsiY2NDWFhYQBYW1tTvnz5f92u0tvbm4cPH5KcnAyAu7s7L1++VGSc7t+/T1paWp7jFB8fz82bN3U2Tg4ODoSGhgKvbh9fsWJF7t69S2ZmJgBeXl5ERkaSkJAAgKurKxkZGURFRQHg6OiIra1tdi5DjVP58uU5E/KQnftvcvJCJNfuxPEyJSPf95eZqTFVKpWgXg0n+vesTzWP4rx4Eafzccpvf/rnPmnIcXrw4AFAruOUmJiYnUtX+1NSUhLPnz8HCr4/JSUlZW/HUONkYu7I8vUnOXbuMReuPSchMT3P9xaAkRF4lLejTrWStGlangF+jXj0KEzn45Tf/pSSkpJdL0OOU37HvdTU1OwcutyfCnvcS0tL08v+lNc4YVKMUxefsWXPFS5cjSbyeUqe763X3MraUsOrBC3eLUPPDjVxLmVn8P+fNBoNkZGRBh+n/I57WVlZxMbG6nx/KuxxLzMzk5cvXyrSR+RGTNvQgiG3e/dBDEvXh7By02WeRCViYmJEo7rlaFTPldpVXahcqSQuTjY42ltx+/ZtPDy9iItPIfxxPPfCYjl3+QmnL0Zw4eoTJAkqutkzrG9dhvSpg7OTjUFeg5qn16g1m6FyRUUnsWLTJVZsusyNO9EA1PR2xufd8tSq6kI1r1dnaRztrTA3M+HqtZu4lqtA+ON4HjyK4+K1p5y+GMGpixGkp2dRqmQxBvasycgB9fGs4Kj3/K+97eMol6FyvUxOZ/XWK6zcfJkT5x4Br45Bvk0qULuqC9Url6JcGVscSlhRzNqcq9duUN69EhFPE3gQHsfVW884eeERJy88IiExDZti5vTs4M2HgxrwTh1Xved/7W0fR7kMlSsjI4vdh+6wZH0Ie4PukpUl4exUDN/GFahbvTS1qrpQrowtziVtKGZtxo2bt3B3r8STqETCH8dz5VYU5y4/IfjMQ549f4mpqTGdfD0Z0b8e7Xw8DPap7ds+jnIpmSu3bYvmWQvp6emYm5vrdRvnLj3muz+Os3XfTYyMjOjQ0oOBPWvRzqcSJeysZOeKik5i58HbrN56lSOnwjA1NaZ/9xp8Pqa53pscQ9SroNSaTd+5QsNi+XHBSZZtDCEtLYtG9VwJ8KtN1zaVKe1cXHauxKQ09gbdZcOu62zff5vMTA3tW3gw9WMfGtUrp7fXkV8upb2tuaJjXjJv2Rl+X3GO2BcpVPEoSYBfLfw6VsUjj+NNbrnS0zM5fOIBm/bcYP3O6yS9TKdBrTJM+agZ3dpVwcjISG+vJa9cSntbc6WkZLB0fQiz/zxB+ON4SpeyIcC/Nn4dq1KnugvGxjk3vbnl0mg0nL30mM17brJy82WePX9JBbcSfDaqKYH+tTE31++H8m/rOBaUkrlU2TyPHz+es2fPEhcXh6OjI6NHj8bf3z/Xn1eqeY6MjMTFxUUvz333QQwTv9nP9v23KWFnyUcB7zBqUIM8Gxq5uW7di+aPledYtOYi6RlZDOpVi1mfttJqGwWhz3oVllqz6StXdMxLps85woLV5zExMSbArxbjhjXC29NJZ7meRiWyeO1F5i47w/PYZNr5VOKHz9tSw9tZFy+hwLmU8LblSknJ4OfFp/juj+MkvUyna5vKTBjZmCYN3LRqcLXJlZCYyqotV/h58WnuhcVSp7oL333WmrY+Hrp6GQXKpYS3LZdGo2HFxstMmX2IyGdJNK5fjknvN6FTK09MTfO/aYY2udLTM9m+/zY//HmCc5efUK6MLTMntaJ/jxq5NuWF9baNY2EpmSvXvlMqQm7cuPHGbPdFfIo0bvpeyazCV5JN5ZnSzLlHpYTEVL3mehqVII3/ap9kXnGGZFN5pjR7/nEpLS1D1nPoI5chqTWbrnOlp2dKs+cfl2y9Z0km5adLo6bskp5EJug1V2JSqvT9H8ckh+rfSSblp0tjpu6R4l4ky96mrnMZ0tuSS6PRSGu2XpFcG/wk4TpN6jZkjXTjzjO95srIyJSWbwiRKjT+WcJ1mtRz+DrpYUSc7G3qOpchvU25gk+HSXXaz5dwnSY16rZIOnLygaTRaPSWS6PRSPuC7kr1Oy6QcJ0mvdt1kXQ2JEJubJ3nMiSRS/ttizsMKmBv0F2qt/6DX5acJsCvNneDRzNldHOK21jodbsupYrz09R23Dj0IS0buTNp5gFqtfuTsyERet2uYFiXb0TSsOsiJs08QLN33Lh6YBS/z+ykt08aXrMpZsGkD5pyJ3g0I/rVY96yM1Ru8Rub99zQ63YFw3r8NIGuQ9bSb/RmnEsW48iGQLYt6av1pxkFZWpqQoB/bW4e/ohvJvqyN+guVVr8xo9/niArS6PXbQuGk5iUxgeTd9HcbxnPY5NZM68XJ7YOxaeRu16n6xgZGdGuhQdndg5j6Y/dePAojoZdFzF22l6SU/K/2FV4u5hMnz59utIhtPX8+XOcnPR7gM6JmZkZlpaFXz4pPiGVUVN2MfGbA7iWsWXXsn58MKgBNsUK1jQXNJdDCSv6dq/BO7XLsHXfTX5ZcpqMDA1NG5TTyQUTuqqXPqg1my5yZWZmMeOXowwcu5WsLA1//dKTryf64uRYzKC5rK3M6NTKiy6tvTh2JpxflpzmfngsLRu562yZuzd5HPVBF7kkSWLFxkt0GbKWe2GxzJ7ShsU/dKWCm71Bc5maGtO8YXkG9KzJ3QcxzFt+liOnwmjZyD3X60MMkcsQ3vRcQScf0H7gKg6duM/44Y3YsqgPdWuUKXDTXJBcRkZG1KlemhH96pH4Mp15y86yafcNGtQqg2tpuwLl0EUuQxC5/iu3vlOcedaCLuY9Xbz6hLodFrBi02Umf9iUC7tHFPrq8cLm6ujrxdUDoxjQoybfzA2mUfclhIbFFuo5dZFLn9SarbC5Hj2Jp0Xv5Xz181H6dKnG9UMf0qND4a8PKEyuujXKcHLbUKaN82HNtqvUbDuf42cfFjpTYXPp05uaKzEpjYFjtzD4k+3UqebClf0fMG54o0L/sV2YXOVdS7B18Xssn9OdkOtPqdl2Pqu3XilUHl3k0qc3NVdmZhZfzD5Eq/dWYGpizLHNQ/hpajusrQp3kVhhctkWt2Te1x05uHYQKakZNOmxlK9/OZq9RJtSufRJ5NKe+hKp0Ou1FwtCkiT+WHGWRt2XkJ6RRfCmwcz6rLVOzsAVJtdrdraWLP+5B1sW9uFBeBz1Oi1g+9+3FM+lL2rNVphcew7foU77P7l8I4o183qxam4vnd0IoLD1MjMzYfr4lpzcOhQLc1Na9F7Oz4tOIRXyOuU3cRz1qTC5Lt+IpH6nhazdfo2vJ7Tk0LqAPFfQMFQueHWWMMC/Nlf2f0Dtqi4MGLOFUVN2kZaWqWgufXkTcz2NSqRNv7+YOe8Yg3vX4fL+92nSwE3xXK+1alqRqwdG8V7X6kz9KYhOAWuIiUtWPJc+iFzaE82zHqWmZjDo4618+MUeWjetSMi+kTo7KOhajw7eXNw7Eo/yDnQfto7J3x0U8whVTpIkvvn1KJ0C1uBa2pYLe0bQt3sNpWPl6J06rpzfPYIurSszfsbf9Bm1kcSkNKVjCfnYuOs6jbotJullOofXBfDFWB/F72CaE/dy9hxeH8CEkY2Z/9d5fPyX8ehJvNKxhHycvviIuh0XcCYkguVzurPkx26FPtusD3a2lqya25P5szpx+OQD6nZYwIUrT5SOJShIfUdBFbKzkz/PKSo6Cd/3VrBqyxVmfNKSncv6UtKh4HNPdZUrL+7l7Dm+ZQgj+tfju9+P03P4epJeym9wdJ1Ll9SaTW6ulJQM+o/ezJc/BjGgZ01ObRuGV8WSiufK87lsLdmyqA/fT2nN5j03adZrKRFPC9bgvCnjaChyc2k0Gr76+Qi9P9hIneqlubh3JD6N3BXPlRdTUxN++KItG//05/qdaBp0Xsi5SwU7Y/WmjKOhFCTXmq1XaNF7OdaWZpzdOZwA/9qqyJUbIyMj3h/YgBNbhgDQrNdStuwt2MXQb9I4GoIacyl+kxQ5lFrnOSMjAzMz7adZXLkZSZfBa4mOeclfv/akV8eqqsglx2/LzzB22j5qVXVm59J+lC1tq4pchaXWbHJyPY1KpPuwdZy7/JhZn7bi01FN9XYVur7qtS/oLr1HbaR4MQt2LutL3RplVJGrsN6EXMkp6QSO38bGXTcI8KvFgu+6YGGhn5tG6KteN+48o1PgGqKik1g9t5fs+f9vwjgakpxcGo2G6XOO8PWvwTRvWJ4ti/robJpZYXLJERWdRLehazkT8pjvJrdm0gdNZB2D34RxNCQlc+XWd4ozz1p4fX95bew/eo8mPZaSlaXh+JYhemuc5eaS66PAhuxc1pe7D2Jp2HURl64/VUWuwlJrNm1z3bwbTcOui7h+5xlbFvbhsw+b6XX5Jn3Vq31LT05sGYqpqTHNei1jx3558+yL+jgamra5YuKS8e2zgk27b/DD521YNqe73hpnObnkqupVitPbh1HT25leI9czZ+FJWfPsi/o4Gpq2udLSMuk/egtf/xrMkD51OLBmoN4aZzm55HJ2siFofSB9ulTjs28PMmziDjIyshTPVVgil/ZE86xD67ZfpfPgNVQqb8/ZncNln01Tm46+XpzYOgRjYyOa+y3jyKkHSkd6q50JiaBpz6WkZ2RxbPMQurc3/KcwulTD25kzO4ZRzcuJHsPXs3jtBaUjvdXCH7+gac+lXLoRyeYFfZjwvryzaWrzusHp1bEqn3y9n3Ff7dPJSglCwSQmpdF58BrW7bjGd5Nbs/iHrnq/DbY+WVmZsea3Xnw5tjlL14fQc8R6UlIylI4lGIhonrWgzccFvy0/Q7/Rm2lUtxxHNgRSxkX7aQ76zFVYNb1dOLltKOXK2NF+4CqtVuJQ48c+r6k1W3659gXdxbfPCuztLDmxZSh1qpdWRa7CcilVnCMbA2nnU4nhk3Yye/5xVeQqqKKa6/rtZzTpsZSnzxLZv2qgTpY51EWuwrKyMmP9H36MHdqQX5ecYfAn28nMzP8MYVEdR6Xkl+t57EtavbeCoJMPWPZTN71ONZOTq7CMjY2ZMcGX+bM6sfvQHdoN+IsX8SmK5yookUt7Ys5zIUmSxPQ5R5jxy1G6ta3M2t/8sLJS30AXVkxcMh0HrebC1Scs+aGbXi7uEHK2ZusVAsZvo3rlUuxd2R+XUvq9U6AS0tMzCRy/jbXbr/HpqCZ8+1nrIn3Wsyg5deERnQJWY2Fhyt+rBlDT20XpSDr3amWaYKb+FETXNpVZ/4efzm7YI+Qt/PEL2vb/i4cR8WyY70+XNpWVjqQXG3ZeY8DYLVT1dGLfXwPeyOP020jMeS6E3ObbSJLE2Gl7mfHLUYb0qcOmBb0N2jgbch6Qo701h9YNomXjCgSO38bPi06pIpdcas2WW65Fay7Qf8wWmjZw48iGQIMfkA1VL3NzU1bN7cmoQQ34/o8TjPh0Z55LJRa1cVRabrmOngqjTb+VONpbc3LrUIM3zoaql5GREV9+7MO8rzuw48BtOgasJiExVfFcchW1XHcfxNCkx1Iio5PYv3qgwRtnQ9ard5fq7FrWj7sPYmnacylhj+JUkUsOkUt7onnWQkbGf+cxaTQaPvx8N/OWnWXcsHdZ/ENXTE1NFM+lTzbFLNi1rB9+naoyfsbfzJoXrIpccqg1W0655q88x4hPd9KhpQd7V/bHztbwtyc1ZL2MjY357ZuOfDGmOYvXXmTQx1tz/Yi9KI2jGuSU69Dx+3QYtAq3snYc2zy4ULfZ1mUuffoosCGr5vYk+MxD2vTL/SP2ojSOapBTrtuhz/HxW0ZaeiZHNw6mWcPyqsilT219PDi0bhCxL1Jo7rcs1zv2FqVxVAM15spztn5aWhpBQUGcP3+eZ8+eYWlpiaenJy1atMDT09NQGVVHo9Ew8rNdLF578a37iNnCwpS1v/XCwtyEz2cfJjNLw9SPWygd640zb9kZxkzdS5fWXmz8s7deVzxQEyMjI76e6ItNMXM++/YgmZkaVs3tiZmZYf8wfdPtP3qPbkPX4eHuwKF1gyhV0kbpSAbTv0dNbKzN8f9gA637rmT/6oE46HHFh7fRjTvP8H1vBZIEQesDqVa5lNKRDObduuU4vD6A1n1X4uO/jMPrA/SyBr+grFznPM+dO5cjR47wzjvvUK1aNRwdHUlLSyMsLIwzZ86QlpbGp59+SpUqVQwWVg3rPGdlaRg2cQfLN17iizHNmTGhpWKNs5JrH2ZlaRg6YTsrNl3my7HN+eqT/6uDWteKBPVm+2eunxedYvyMv+nergrr//BT9Ip0Jev104KTTPhmP706erNmXq9/1aEojKOa/DPX3qC79Bi+jiqVSnJw7SCd37ypoLkMbdfB2/QauYFqXk4cWDPoX0umFYVxVJN/5rp2K4pWfVdibGzE4XUBeHs6qSKXoV29GUWrviswNTHm8PoAqnj8Xx2KwjiqiRrXeUbKRVBQUG7fkiRJkp4/fy5duXIlz5/RtRs3bhh0e689fvxYkiRJysjIlAaM2SzhOk2aPidIkSz/9DqXUrKysqShE7ZJuE6TJn97QNJoNKrIlRe1Znuda/b84xKu06ReI9ZJ6emZCqdSvl6/LD4l4TpN6jZkjZSWlpH9uNK5cqP2XDv235LMK86Q6rSfLz2PfalwKuXrtefwHcmi0gypZps/pGfPk7IfVzpXbtSe6/KNp1LJmt9Lpev+IN26F61wKuXrde1WlORcZ7ZUqvZs6dqtqOzHlc6VG5Hrv3LrO3Od89yiRQsA9u7d+5/v7d27F0dHR2rUqFGojj44OJh27drRpk0bFi5cWKjn0qf4+HgyM7MYOHYrq7Zc4ZuJvkwb10LpWMTHF+zWxrpibGzMwu+7MHJAPb79/TiTZh5AkiTFc+VFrdni4+P59rdjTJp5gD5dqrH2Nz9VTFVQul5jh77Lb193ZPv+V2cJ09IyVZErN2rOtXXvTXqNXE/NKs4cWhug15tTyMmlpA4tPdmxpC937sfg22cFz54nqSJXbtSc69L1p/j2WYGFuQlHNw2mciXlpyooXa9qlUtxZEMgJsZGtOi9nCs3I1WRKzcil/byvWAwp6ZWF41uVlYWM2bMYPHixezevZtdu3ap8opKgIxMDX0/2sy6Hdf4fkprPh/TXOlIqmFsbMz8WZ35MKABPy44yfiv/pZ1Jy/hlfmrrjPl+0P0615DzPH9Hx8GvsP8WZ3YdfAOPYavIzVVfRePqN3fwY/oPWojdauX5sCagdiXsFI6kmq09fFg1/J+hD6MpWWfFUQ+S1Q6UpFz424svn1WYG1lxtGNg/Gs4Kh0JNWo4uHE0U2DsTA3wbfPCkKuaX+3XkG9cp1MefToUYKDg4mKiuKbb77JfjwpKQkTk8L/x37lyhXKly9PuXLlAOjUqROHDh3Cw8Oj0M+tS+npmXw+J4RdB+8xZ2o7xg1vpHSkbGXLllU6AvDqIq95X3fEzNSEX5acJjkllT+/81blRZRqqdlr0v9fJ3zeymsM8qvF0h+7YWKinkVw1FKv9wc2wNTUmBGf7qTrkLX89UsnpSPlSC31+qf1O6+4ZdsAACAASURBVK4x4dtTNKzjyt6V/bEtbvhVW3Kjlnq1alqRvSsH0ClwNS16L2f74l5KR8qRWur1T+cuPWbo5GBK2FoStD5QkVVbcqOWenlWcOToxsH4vreCVu+tYOuiXqjrjhWvqKVe/5SQmIqxmZ3SMf4j1+bZ2dmZatWqcfjwYapVq5b9eLFixZg8eXKhNxwVFYWLy/+tKers7MyVK1fy/J3MzExu3rwJQKlSpbC0tCQ8PBwAGxsbXF1duXXr1R3wjI2NqVy5MmFhYaSkvFqOqEKFCiQkJBATE5O9TTMzMyIiIgCwtbXFxcWFO3fuAGBqakp0vAW7Dt5jyqg6tG9agvT0dGJjY4mLe7WGY+nSpTE2Nubx48cA2NnZ4eTklH0W3czMDA8PD+7du5e93IqHhwfR0dHZH0WULVsWjUbD06ev/iK1t7fHwcGB0NBQACwsLKhYsSJ3794lM/PVx9ZeXl5ER0dnb9fV1ZWMjAyioqIAcHR0xNbWlgcPXt1S28rKCnd3d27fvp19i9oqVaoQERFBUtKrjyrd3NxITU3l2bNnAJQsWRIbGxvCwsIAsLa2pnz58tljAODt7c3Dhw9JTk5meG83JCmLX5eeIz4hkS8/qoeLi7NBxsnT05P79++TlpYGQKVKlXIcp/DwcExMTAw6TpGRkSQkJPxnnCRJYtGGUH5ZcoEebd2ZONSLR4/C9T5OAO7u7iQlJfH8+XMg9/3pdb0MPU457U9Nalvz7aRGTJ59im5D1/PHjGZYWZrqfZxA+/3p2bNn2dkNOU657U87D4Ux+Yez1KtRil+/aMDjiAdk6nmcQPv9KTExMfs5DDlOOe1PpUqkMP/rZnzw5TE6BqxnyXfNcS5pbZBxAu32Jysrq+wchhyn3PanyzdjGD7lKI4lrFg+uwWpLyO5eTNSr+MkZ38qXbq0IuOU0/5kpHnBkm+bETgxiK5DNrLut064lzE3yDiBdvtTiRIlyMzMVLSP+Oc4XbnxkMAJQZR3teXvVQMU6SNyld9k6fT0dJ1Ovn5t79690pQpU7K/3rp1q/TVV1/l+TtKXDCo0Wik4BMXDb5dbSh1AWVeNBqNNOyTtRKu06RhE7dLWVlZSkf6F7XUTKPRSJNm7pdwnSYNn7RdunbtutKRcqSWev3TX5svScZu0yUfv6VSYlKq0nH+RU31Wr4hRDIqN01q4b9MOn/BsBd3a0tN9XrtxLmHUjGvr6VKTX6Rwh+/UDrOv6ipXifOPZSKV5kpVWryi3TwyDml4+RITfV6LexRnORaf7Zk6z1LOnUhXOk4/6KmeoU9ipMqNP5Zsqs6S1q/9ZhiOWRfMPj+++9z+PDhHL/36NEjfv31VzZt2pR7V54PZ2dnIiMjs7+OiorC2dm5wM+nL0ZGRpS0V8/HnGpnZGTEuCE1+Xx0MxavvcjQCTvyvFPc20iSJCZ8vZ/Z80/wwcD6/PltZ4yN1TfFRa0G9KzF95825NjZcDoMXE1iUprSkVRn6bqLDP5kG62aVmT3in5YW70d64TrQuP6biz+1ofo2GR8/JfxMOKF0pFU59iZh7QbsAoXJxuObAykTCnlljssasq7lmDFj744OVjTtv9fnDwfrnQk1bn/MBYf/2XExadycM0galRW3xz6XJvnr7/+mvPnz9OxY0d69erF8OHDGThwIL6+vkydOpVq1arh5+dX4A3XqFGDsLAwHj16RHp6Ort378bX17fAz6dP9vbqmcP1T2rN5eDgwNcTfZk2zoflGy8x+JNtqmmgla6ZJEl8PH0fcxadYsyQhvw+sxPGxsaK58qNWnMN6Fmbdb/7ceriI9oN+CvPWy0bkhrqtXD1eYZO3EGbZpXYsaQv1lbmqsiVE7XmatHYk4NrBhEXn4qP/zIehOd+q2VDUkO9gk4+oP3AVbiWtuXoxsG4lrZTRa6cqDVX1cplObpxMC5ONrQbsIpjZx4qHQlQR73uPYjBx385iUnpHF4XQP1aZVWR63/lepOU11auXEn9+vVJS0vD0tISd3d3rKx0c6X20aNHmTVrFllZWfTq1YsPPvggz59X6iYp6enpmJubG3y7+SkKub759Shf/hhE327VWflLD4PfwjyvbIam0Wj46Is9zP/rPOOHN+LHL9tmX1RZFMZSTV7n2rL3Bn1GbaJu9dL8vWoAJeyUXUVC6Xr9seIsH36xhw4tPdiysA+WlmaqyJUbtee6cOUJbfqtxKaYOUHrA6nk7qCKXEo5eCyUrkPWUtHNnkPrAnB2slFFrtyoPdfTqER831tB+ON4dq/oR4tGFVSRSym3Q5/j22cF6RlZHFw7iFpVXRTPlVvfme9l/TExMYwdO5bly5cTHR2NpaXupjD4+Pjw999/c/DgwXwbZyW9nnCvNkUh1xdjffj2s1as3X6NfqM3k5GRpWAy5Wqm0Wj4YMpu5v91nkkfNPlX46xkrvyoPVfPDlXZ9GdvQq4/pXXflcTGJasilxLmLj3Nh1/soXNrL7Yuei+7cVY6V17UnqtezTIcXh9AckoGPv7LuPsgRhW5lLAv6C6dB6/Bs4IjQRsCsxtnpXPlRe25SjsXJ2h9AO7lStBx0GoOHb+vilxKuHk3mha9l5OZpSFofUB246x0rtzk2zyPGzeO/fv34+fnx9atW2nbti1z5szJvupREPLz2YfN+OHzNmzcdYP3PtxEenqm0pEMKitLw/BJO1m4+gKfj27Gd5Nbq3IZv6KqW7sqbFnYh6u3n9G630piFG6glfDzolOMnbaP7u2qsHlBbywsxBxnXaldrTSH1weQlp6Fj98yboc+VzqSwe06eJtuw9ZR1dOJw+sDcHIUc5x1xaXUqwa6UnkHOgeuYf9Rdd7vQp+u3YqiRe/lABzZEEj1Kuq7/u1/abWgrJGREU5OTpQsWRITExPi4+MZM2YMs2fP1nc+VbCwsFA6Qo6KUq4J7zfh52nt2LL3Jr0/2Jh9pzhDM3TN0tMzGTBmC0vXhzBtnA9fT/TNsXEuSmOpBv+bq3Prymxf/B437kbj22cF0TEvVZFL3yRJ4qufjzB+xt/06ujNhvn+mJv/t3EuKuOoFv+bq6a3C0HrA8jM0uDjv4xrt6JUkcsQNu2+Ts8Red+ZsqiMo1r8b65SJW0I2hBA5UqOdB26lj2H76gilyGcv/yYln1WYGpizJENgXh7OqkiV37ynfO8YsUKtm/fjr29PX5+frRu3RozMzM0Gg1t27bl4MGDhsqq2JxnQXd+W36G0V/upVXTCmxd9B7FbdS3U+hKcko6fiM3sDfoHt9Pac2kD5oqHemNdyD41ZzM8q52/L1qIOVdSygdSW80Gg3jvvqbuUvPEOhfm0Wzuyh+TcGb7sadZ7Tuu5LUtEx2Le9H4/puSkfSq4Wrz/P+5F00qleO3cv7KX5NwZsuJi6Ztv3/4srNKFbM6U6/HjWVjqRXh0/cp9vQdZR0sObA6oF4qPDOlAWe8xwfH8+8efNYsmQJHTp0wMzs1Tw6Y2NjFixYoPukKnT37l2lI+SoKOb6KLAhy+d058ipMFr2Xs6z50mGC4bhahb3IoU2/f7i76OhLJrdJd/GuSiOpZJyy9WmeSX2rx5IZHQSTXos4frtZ6rIpWsZGVkEjt/G3KVnGDfsXZb82DXPxrmojaPScstV1asUJ7YOxdHemtZ9V7I3yLD5DVUvSZL49rdjjPxsF+1beHBgzcA8G+eiNo5Kyy2Xo701h9cF0LSBG/3HbGHu0tOqyKUPW/fepMOg1ZQva8eJLUPybJzVOI75Ns9jxozJ9ZaNed595Q3y+m48alNUcwX412bb//+IvWnPpQZdBsoQNXsalYiP/zLOX3nChvn+DOtbTxW5CqIo5mrWsDzHNg1Bo5Fo2mspJ84Z7voMQ9QrJSUDv5Eb+GvzFb6Z6MtPU9thbJz3obwojqOS8spVwc2e41uGUMWjJF2HrGX11rzvjGuoXLqi0Wj4ZMbfTPn+EP171GD7/1/uUOlcBVEUc9nZWrJ3ZX96tK/C2Gn7+GL2IfKZIGCQXLq0dN1F/N7fQN3qpQneNJgyLraqyCWHVnOeBUHXOreuzIE1g4iOTaZJjyVcvhGZ/y8VAdduRdGo+2Luh8exe3k/enWsqnSkt1INb2dObhuKk8OrM4Q7D9xWOpJOREUn0bLPcnYevM3v33Tk8zHNxcWnCnB2suHIhkCaNnBjwJgt/LTgpMEaHH1KTc1g4Nit/Lz4NKMHv8PKX3pgZiamAhmapaUZG//szfB+dZk57xgjPt2p+EpVuvD6Go1X69BX5ODaQTjkMIe+KMh3zrOaKDXnOSsrCxMT9R1A3oRc125F0X7gKl4kpLJmXi+6tq2immxy/X3kHr1HbaSYlRk7l/WjXs0yqshVGEU9V3TMSzoOWs3Fa0/54fM2jBveSK/Npj7rdePOMzoFriEqOok183rRvb32x8KiPo6Gpm2u1NQMBn68lU27bzC8X11+/6aTXptNfdbr2fMkegxfz8nzj5j1aSs++7Cp1vtKUR9HQ9M2lyRJTP0xiG/mBuPbpAIb5/vrtdnUZ71SUzMYOnEHa7ZdJcCvFgu/75Ljxc2GzpWfAs95FvjXbcTV5E3IVb2KM2d3Dsfbw4nuw9Yxe/5xvZ7B0VfN/vzrHJ0CV1OhXAnO7houq3HWZ67CKuq5nByLcWRjIN3bVeGTr/czbOIOvS6VqK96HTwWSuMeS0hNyyR402BZjbM+cxVWUc9laWnG+j/8mPJRMxatuUj7gav0uta4vup1/fYzGnZdzMWrT9n4pz+TP2om64/Moj6OhqZtLiMjI76e6MvyOd05dvYh73ZbzJ37+lsqUV/1io55Sau+K1mz7SqzPm3FsjndtW6c9ZmrMETzrIWEhASlI+ToTclVxsWWo5sC8e9UjU9nHWTw+G2kpGSoIlt+UlMzeH/yTj6Yspv2LTw4tnkIrqXtFM+lK29CrmLW5mz8058vxzZn6foQWvddqbcLVXVdL0mS+OHPE7QfuIpype04s2MY9WvlfA2KIXPpypuQy9jYmJmftmLlLz04fi6cd7st1tuFqvqo17Z9N//1h5lfp2qqyKULb0quAP/aHF4XQFx8Kg27LtbbWtD6qNf5y495p8siLl59yob58v8w01euwhLNs6AK1lbmrPvDj+njW7Bi02UaddfvX9i6EPYojma9lrFg1QUmfdCE7Uv6vtFL7xVlxsbGzJjgy9rfenHu8hPqtF9A8OkwpWPlKSExFb+RG5g08wA92ntzcttQ3Mq+uUvvFXUDe9Xi8LoAEpLSeKfLIv7afFnpSHnKyMhi4jf76TF8PV4VHDm7czgNasv/w0wwjKbvlOfMjmGUdS5O+4GrmPZTEFlZGqVj5UqSJBasOk+TnkvJytIQvGkw/p3l/2GmVibTp0+frnQIbT1//hwnp/8uoK1vlpaWqlyk+03LZWRkRItG7rxTuwzLN15m/l/nqViuhE7vNqSrmm3de5POgWuIjk1m3e9+jB7cEGPjgs+lfdPGUt8Kmqt6FWc6t/Jk+/5b/Lz4NKYmxjRtUE5n86B1Va+zIRG0H7iK0xcj+PGLtsyZ2q5Qdw1808ZR3wqay62sHf271+TUxUf8svg0jyMTaNWkAuY6mgetq3qFP35B96HrWLfjGqMGNWD9H4WbS/umjaO+FTSXfQkrAvxr8/hpAnOXnuHE+XDaNq+ETTHdvEZd1Ss+IZURn+1k1rxjtGn2avnQwqzhrOQ45tZ3ijPPWsjI0M8UgsJ6U3N19PXi0t/vU9Pbmb4fbabfR5t4HqubO8YVNlt8QioB47bSc8R63MuV4MLuEbLnn+ojl768iblqVyvNhT0j6dOlGl/8cJgW/su5+yBG8Vyvfj+L6XOCsj9GP7wugPEjGhe6uX8Tx1GfCpOrtHNxDq4dxJSPmrF47UVqtZ3P8bMPFc8Fr84GLlsfQo0287l47Smr5/bk95mdCn079zdxHPWpMLmKWZuz/OceLP2xGyfPP6Jaqz9Yu+2qTq4V0kW9Dp+4T82281mz7SpffdKC3Sv65XhXSkPn0jXRPGshKkqZW7Hm503OVa6MHUc2BPLVJy3YtOcG1Vr9weY9NxTLJkkSOw/cpkabP1i99Qpfjm3O6e3DdHZHpDd5LPWhsLmK21iwel4vlv3UjSu3oqjVdj5zFp4s9Meghcl1/vJjGnVbzFc/H6Vf9xpc2f8Bzd91L1QeXeTSpzc1l6mpCTM/bUXQhgA0kkRzv2WM/2ofSS/TFMsV/vgFXYesZciE7dSp5sLVA6N0dge7N3Uc9UUXuQb3qcOFPSPxrOBAv9Gb6TViPZHPEhXL9SI+hY++2E2r91ZiZWnKya1Dmfpxi3zXoNd3Ln0RzbOgWmZmJkz9uAXnd4/AtbQtfiM30H7AX1y7Zdgd6e6DGDoHrqHrkLXYFDPnxNahzJjgK9Y/LeKMjIwI7F2HG4c+pHXTinzy9X7qd1rI4RP3DZrjeexLRn62k3e6LCIiMoGNf/qz8pee4lbIb4AWjSpwZf8HfDCwAT8vPk1ln9/4a/NlNBrDzVVNScngq5+PUKXFbxw6fp9fprfn8PoAKrjZGyyDoB/enk6c2DqU2Z+3YU/QXbx85vH9H8dJTTXcmVqNRsOSdRfx8pnHHyvPMXZoQy7uHck7dVwNlkEJYs6zFiRJolixYgbfbn7ellzOTjYM6V0Hezsr1my/yq9LzhD5LIna1ZyxLW6pt2yPnybwxQ+HGDpxB48jE/j201Ys+6m7Xi7aelvGUld0mau4jQXvdauOt4cTOw/eZu7Ss1y4+oQalUvh7GSjt1wJian8uOAk/T7azOmLEYwd8i6bF/ahTnV5yxzqOpchvQ25zM1N6dTKi7bNK3Li3CN+X3GOfUfu4e5agopu9rKm5MjJlZGRxYqNl+g9aiPb/75Nz/be7Fjal3Y+Hjpf6/xtGEdd0mUuY2MjmtR3o0+X6ty9H8vvK86xZvtVSjpYU9WzpKwzv3JySZLE7kN36Dd6CwtWXaBOdRe2Le7L4N51dH5iSclxzK3vVOQmKXv37uW3334jNDSUjRs3UqNGDa1+T6mbpKSmpmJpKa9JM4S3MVdMXDIzfjnKHyvPYWQE/bvXZNzwd6np7aKzbFduRjJ/5XmWbQwhM1NDoH9tvp7gS2nn4rp4CQXOpYS3LVdqaga/Lj3DrN+OkZCYRkdfTyaMbEyLRu5aNRza5Ap//IKFqy8w/6/zxL5IoUtrL2Z92kqnF8YWJJcS3rZcGo2GVVuuMOX7QzyOTKRBrTJMfL8J3dpW1mrdW21yxb1I4a8tl/lp4SnCH8dTr0ZpfvqyHT6N3HX0KgqWSwlvY66Dx0IZP+Nvrt56RkU3eyaMbEz/HjW0OtGkTa7U1Aw27bnBnEWnCLkWiXu5Enwz0Zd+3Wvo7QZUSo5jbn2nIs1zaGgoRkZGTJs2jUmTJqm+eVZqu/l5m3M9jHjBnEWnWLTmAimpmdStUZpBvWrRpbUXFcs7yM72MOIF2/ffYt2Oa5y6EIGFhQkDe9ZiykfNDPLx5ts8lgWh71yxccn8sfIcc5edITommYpu9gzsVZOeHbypUcU51/8kcssVE5fMzgO32bj7BvuO3EOSJLq0rsyXY5sXaN1mud7WcSwofedKS8tkxaZLfP/HCe6Hx1HSwZoBPWrSo30VGtcvh6lpzmfucsv1MjmdA8GhbN57k027b5Calkmjeq58OdaH9i10f6ZZ21xKe1tzaTQaduy/zbe/H+fspcdYW5nh16kqfbpUo0Ujd6ytzGXlysjI4tjZh2zdd4s1264S+yIFzwoOTPmoGf171NT7FEYlxzG3bRfuEtsCqlSpkhKbFd4g5V1L8OtXHZj6sQ9rtl1l2YYQPp6+j4+n78OzggNNG7hRq6oLVT2dcHYqRkl7a0xMjIl6nox05xnhj+O5Hx7HuctPOHMpgpt3X60pXdXLiZ++bEuAf+1CXyEsFF0O9tZ8MdaHT0Y0ZuPu66zcfJkZvxzlq5+P4lLKhpaN3Knp7Uz1yqUo62KLo70VVpZmRD1PxvRBDI+exPPg0QtCrj3l1MUILt+IJCtLolwZWz79oAkjB9SnvKtYs/ltZWFhyoj+9Rn6Xl32B4eyZN1Ffl95ll+WnKaEnSXNGrhRt0Zpano7U9bFFhcnGyzMTYiOScE8LJYnUYk8ehJPyPVIzl95wqmLj0hLy8LO1oLBvWszvF896lQvrfTLFBRibGxM9/bedGtXhTMhESzbcIl1O66xctNlLC1MadKgHPVqlKF2VRfcytrhXLIYtsUtiI5JwTriBU+fJRLxNIGrt55x9tJjTl18RHxCGpYWpnRp48XI/vVp2dhdJxcDFlWKNM9FjZWVOi/cEbnA0d6a0YMbMnpwQ+7cf86+I/fYHxzK7sN3WbbhUr6/X9LBmnfrujK4dx26ta2MV8WSBkj9X2Is5TFULisrMwb51WaQX22eRCbw99FQ/j56jxPnH7F2+7V8f7+YtRnv1C7LlI+a0a1tFerWKK33s4A5edvHUS5D5TIxMaZDS086tPQkITGVA8fus+fwXU6HRLD78F00mrw/GDY3N6F2VRc+GNCArm0r07SBmyIXMr/t4yiXoXIZGRnxbt1yvFu3HL9Ob8+xs+HsOXyXo2fC+HnxKTIy8r5w1djYiGpeTvh3qkbHlp609alEMeucz1rrkxrHUW/TNgIDA3n+/L93iPv4449p3bo1AAMHDpQ1bePq1auYmr7q90uVKoWlpSXh4eEA2NjY4Orqyq1bt4BXf3lVrlyZsLAwUlJSAKhQoQIJCQnExLxa09XZ2RkzMzMiIiIAsLW1xcXFhTt37gBgamqKp6cn9+/fJy3t1RJDlSpVIjY2lri4OABKly6NsbExjx8/BsDOzg4nJyfu3Xt1+0wzMzM8PDy4d+9e9lqFHh4eREdHEx8fD0DZsmXRaDQ8ffoUAHt7exwcHAgNDQXAwsKCihUrcvfuXTIzMwHw8vIiMjIy+7aVrq6uZGRkZC/p4ujoiK2tLQ8ePABevfnc3d25fft29pXeVapUISIigqSkV7cqdnNzIzU1lWfPXt1atmTJktjY2BAWFgaAtbU15cuX5+bNm9lj4u3tzcOHD0lOTgbA3d2dpKSk7LFXcpxu340g5NojYl+koTGyBIxISozH2soUzwqlqFG1PKkvozAyMhLjJPYn2eNk7+DC3kMXiI5J5kVCGiXsnUh+mQBSJs4lrWhQ15OSJcyJjX0uxknBcSqq+5NNcQceRCRy49ZDnsemYmJqjp2dHS9ePKeUgxVlnG1o3aIOERHhYpwUHKeiuj+lZ2QhmThw/VY4jx7H8jIlE0cHB4yNJMxN03FxsqZWNTdKuzi+1eMUGhqqnjnPr8ltnpWa93L79m0qV65s8O3mR+SST63ZRC55RC55RC55RC55RC55RC55lMyVW9/59k5YkcGQa3LKIXLJp9ZsIpc8Ipc8Ipc8Ipc8Ipc8Ipc8asylSPN84MABmjdvTkhICCNHjmTo0KFKxBAEQRAEQRAEWRSdtiGXUtM2JElS5CKf/Ihc8qk1m8glj8glj8glj8glj8glj8glj5K5xLSNQng9wVxtRC751JpN5JJH5JJH5JJH5JJH5JJH5JJHjblE86yF11eRqo3IJZ9as4lc8ohc8ohc8ohc8ohc8ohc8qgxl2ieBUEQBEEQBEFLonnWgpubm9IRciRyyafWbCKXPCKXPCKXPCKXPCKXPCKXPGrMJZpnLaSmpiodIUcil3xqzSZyySNyySNyySNyySNyySNyyaPGXKJ51sLrO+Wojcgln1qziVzyiFzyiFzyiFzyiFzyiFzyqDGXaJ4FQRAEQRAEQUtFap3nS5cuYWFhoXQMQRAEQRAE4Q2XlpZG7dq1//N4kWqeBUEQBEEQBEFJYtqGIAiCIAiCIGhJNM+CIAiCIAiCoCXRPAuCIAiCIAiClkTzLAiCIAiCIAhaEs2zIAiCIAiCIGhJNM+CIAiCIAiCoCXRPAuCIAiCIAiClkyVDqB2wcHBzJw5E41Gg7+/PyNGjFA60r9MnTqVzp07M2/ePGJiYjAyMqJ3794EBAQYNEd4eDi9e/fG2tqa4sWL8/TpU2xtbdm2bRs2NjZ63XZaWhr9+/cnPT2drKws2rVrx5gxY/L9PUPX7unTp0yaNEnRcXrN19eXYsWKYWxsjImJCVu2bMn3dwxdr4KOq67dv3+fcePGZX/96NEjxowZQ2BgYJ6/p9S+mZWVRa9evXB2dmbBggV63VZuVqxYwcaNG5EkCX9//3xrBcrVqyD7gi5MnjyZI0eO4OjoyK5du/J9PC9Tp06lW7dulClTRu/HmISEBL744gvu3LmDkZERs2bNok6dOjrdRk5yqkthjv2GqFdBjx26kNv7qKDHfkO9v5YvX87GjRsxMjLCy8uLb7/9Vp03x5OEXGVmZkqtWrWSwsPDpbS0NKlLly7S3bt3lY71L127dpUiIyOla9euSZIkSYmJiVLbtm0VyTlq1Cjp3LlzkiRJ0oABA6Rbt24ZZLsajUZKSkqSJEmS0tPTJT8/PykkJCTf3zN07aKiolQxTpIkSS1btpRiYmJk/Y6h61XQcdWnzMxMqXHjxlJERES+P6vUvrl06VJp/Pjx0ogRI/S6ndzcvn1b6tSpk5ScnCxlZGRIAQEBUlhYWL6/p1S9CrIv6MLZs2ela9euSZ06ddLq8bx07dpVyszMNMgxZtKkSdKGDRskSZKktLQ0KT4+XqfPn5uc6lKYY7+h6vWanGOHLuT2Pirosd8Q9YqMjJRatmwppaSkSJIkSWPGjJE2b96ss+fXJXHmOQ9XrlyhfPnylCtXDoBOnTpx6NAhPDw8DJYhrzO6UVFRuLu74+zsjLOzMwA2NjZUrFiRqKgog+YEuHfvHp6engCEhoZSoUIFg2zXyMiIYsWKAZCZmUlmZiZGRkaqq12pUqUoVarUf7Zlbm6u2Fn7f1JbvQoyrvquLGHBjAAABpdJREFU16lTpyhXrhxly5ZVXb0AIiMjOXLkCO+//z7Lly8HDP+pUGhoKDVr1sTKygqABg0asH//ftq1a6e6euXGEDVr0KABERERWj2uzXvNxMQk12OMruqXmJjIuXPn+O677wAwNzfH3NxcsXoV5thviHr9k7bHDn2/v3KipnplZWWRmpqKqakpqamplCpVStFjfm7EnOc8REVF4eLikv21s7MzUVFRBs3g5uZGvXr1mD17Ntu3b6dy5cr8/vvv2NjYEBwcTLNmzf718xEREdy8eZNatWoZNGdqaippaWnY2dnx9OlT7O3tMTc3N9j2s7Ky6NatG40bN6Zx48bUqlVL1bX757byyqlPQ4cOpWfPnqxfvx5Q53tN7rjq2+7du+ncuTOgznrNmjWLiRMnYmz8f4d2Q9fLy8uLCxcuEBcXR0pKCsHBwURGRqqyXq/J2ReUILd2oJ/6RURE4ODgwOTJk+nevTuff/45ycnJitZLF8f+169Nn+83bY8dhlDYYz/op17Ozs4MGTKEli1b0rRpU2xsbGjatKni9cqJaJ6LgNzO6B4/fvxfb+qXL18yZswYpkyZYvA31b1796hUqVJ2xtf/NhQTExO2b9/O0aNHuXLlCnfu3MnOpbba5bQtQ5+1X7t2LVu3bmXRokWsXr2ac+fO5ZlDqXrJHVd9Sk9P5/Dhw7Rv3z77MTXVKygoCAcHB6pXr/6f7xmyXpUqVWLYsGEMHTqUYcOGUaVKlexmXk31ek3uvqAUbWsH+qtfZmYmN27coG/fvmzbtg0rKysWLlyYZz59K+yxH/T/fpNz7NC3wh77QX/1io+P59ChQxw6dIhjx46RkpLC9u3b88ynFNE858HZ2ZnIyMjsr6OiorI/UjSU3M7opqSkkJCQkJ0nIyODMWPG0KVLF9q2bWvQjPDvN7alpSXXr18nNDTU4DlsbW1p2LAhx44dU2XtctqWEmftX792R0dH2rRpw5UrV1RZr9e0GVd9Cw4Oplq1apQsWRJQ37558eJFDh8+jK+vL+PHj+f06dNMmDBBkXr5+/uzZcsWVq9ejZ2dHe7u7qqr12ty9gWlaFs70G/9XFxccHFxyT7b2L59e27cuKGKehXk2A+Geb9pe+wwhMIc+0G/9Tp58iSurq44ODhgZmZG27ZtCQkJUcX763+J5jkPNWrUICwsjEePHpGens7u3bvx9fU1aIbczuieOXOGhg0bAiBJEp9//jkVK1Zk8ODBBs33Wvfu3fnss88AqF+/PocOHTLY2efY2FgSEhKAVwelkydPUrFiRdXVLrdtGfqsfXJyMklJSdn/PnHiBJ6enqqrl9xx1bfdu3fTqVOn7K/VVq9PPvmE4OBgDh8+zJw5c3j33Xf58ccfFalXTEwMAE+ePGH//v106dJFdfUC+fuCUrSpHei/fk5OTri4uHD//n3g1TzeSpUqKVavwhz7wXDvN22PHfpWmGM/6L9eZcqU4fLly6SkpCBJkuLvr7yICwbzYGpqytSpUxk2bFj28k+vz64aSm5ndIODg2nXrh0AFy5cYPv27Xh5edGtWzcAxo8fj4+Pj0GzKuXZs2d89tlnZGVlIUkS7du3p2XLlmzbtk1VtcttW3FxcTnm1NcBIiYmhg8//BB4NV+wc+fONG/eXHX1kjuu+jygJicnc/LkSWbMmJH9WFHZN3PLqc96jR49mhcvXmBqasq0adOwtbVVZb3k7gu6rNn48eM5e/YscXFxNG/enNGjR+Pv75/j42ZmZvnWDgxTvy+//JIJEyaQkZFBuXLl+PbbbwkKClKkXjVq1CjwsR8MUy85xw591+vdd98t8LEf9F+vWrVq0a5dO3r06IGpqSne3t706dOHPXv2GPwYlh8jSZIkxbYuFFiPHj3YsGEDZmZmSkcpckTt5BH1kkfUSx5Rr4ITtZNH1EseUa/cieZZEARBEARBELQk5jwLgiAIgiAIgpZE8ywIgiAI/6+9OzahEAiiKDr5RrZiHYJt2IqBZYgNWJFYwYL5b2GCDwvDORW88DKwLECSeAYAgCTxDAAASeIZAACSxDNAUb33OM9z9AyAUsQzQFG997iua/QMgFLEM0BRx3HE8zyxrmvs+z56DkAJPkkBKOp939i2Le77Hj0FoAyXZwAASBLPAACQJJ4Bimqtxfd9o2cAlCKeAYqapinmeY5lWTwYBPgTDwYBACDJ5RkAAJLEMwAAJIlnAABIEs8AAJAkngEAIEk8AwBAkngGAIAk8QwAAEk/jA0Cw/6UwIkAAAAASUVORK5CYII=\n",
                  "text/plain": "<Figure size 864x432 with 1 Axes>"
                },
                "metadata": {}
              }
            ],
            "_view_module": "@jupyter-widgets/output",
            "_model_module_version": "1.0.0",
            "_view_count": null,
            "_view_module_version": "1.0.0",
            "layout": "IPY_MODEL_bfcdf2f11cf54eb08ca52168562a9a5d",
            "_model_module": "@jupyter-widgets/output"
          }
        },
        "eaf3375a24b74011bb5981b9f8771e75": {
          "model_module": "@jupyter-widgets/controls",
          "model_name": "SliderStyleModel",
          "model_module_version": "1.5.0",
          "state": {
            "_view_name": "StyleView",
            "handle_color": null,
            "_model_name": "SliderStyleModel",
            "description_width": "",
            "_view_module": "@jupyter-widgets/base",
            "_model_module_version": "1.5.0",
            "_view_count": null,
            "_view_module_version": "1.2.0",
            "_model_module": "@jupyter-widgets/controls"
          }
        },
        "b7ad4c96c8774200839aa9db49a0c6e0": {
          "model_module": "@jupyter-widgets/base",
          "model_name": "LayoutModel",
          "model_module_version": "1.2.0",
          "state": {
            "_view_name": "LayoutView",
            "grid_template_rows": null,
            "right": null,
            "justify_content": null,
            "_view_module": "@jupyter-widgets/base",
            "overflow": null,
            "_model_module_version": "1.2.0",
            "_view_count": null,
            "flex_flow": null,
            "width": null,
            "min_width": null,
            "border": null,
            "align_items": null,
            "bottom": null,
            "_model_module": "@jupyter-widgets/base",
            "top": null,
            "grid_column": null,
            "overflow_y": null,
            "overflow_x": null,
            "grid_auto_flow": null,
            "grid_area": null,
            "grid_template_columns": null,
            "flex": null,
            "_model_name": "LayoutModel",
            "justify_items": null,
            "grid_row": null,
            "max_height": null,
            "align_content": null,
            "visibility": null,
            "align_self": null,
            "height": null,
            "min_height": null,
            "padding": null,
            "grid_auto_rows": null,
            "grid_gap": null,
            "max_width": null,
            "order": null,
            "_view_module_version": "1.2.0",
            "grid_template_areas": null,
            "object_position": null,
            "object_fit": null,
            "grid_auto_columns": null,
            "margin": null,
            "display": null,
            "left": null
          }
        },
        "bfcdf2f11cf54eb08ca52168562a9a5d": {
          "model_module": "@jupyter-widgets/base",
          "model_name": "LayoutModel",
          "model_module_version": "1.2.0",
          "state": {
            "_view_name": "LayoutView",
            "grid_template_rows": null,
            "right": null,
            "justify_content": null,
            "_view_module": "@jupyter-widgets/base",
            "overflow": null,
            "_model_module_version": "1.2.0",
            "_view_count": null,
            "flex_flow": null,
            "width": null,
            "min_width": null,
            "border": null,
            "align_items": null,
            "bottom": null,
            "_model_module": "@jupyter-widgets/base",
            "top": null,
            "grid_column": null,
            "overflow_y": null,
            "overflow_x": null,
            "grid_auto_flow": null,
            "grid_area": null,
            "grid_template_columns": null,
            "flex": null,
            "_model_name": "LayoutModel",
            "justify_items": null,
            "grid_row": null,
            "max_height": null,
            "align_content": null,
            "visibility": null,
            "align_self": null,
            "height": null,
            "min_height": null,
            "padding": null,
            "grid_auto_rows": null,
            "grid_gap": null,
            "max_width": null,
            "order": null,
            "_view_module_version": "1.2.0",
            "grid_template_areas": null,
            "object_position": null,
            "object_fit": null,
            "grid_auto_columns": null,
            "margin": null,
            "display": null,
            "left": null
          }
        },
        "f8bb83a85617471d81983fc223078807": {
          "model_module": "@jupyter-widgets/controls",
          "model_name": "VBoxModel",
          "model_module_version": "1.5.0",
          "state": {
            "_view_name": "VBoxView",
            "_dom_classes": [
              "widget-interact"
            ],
            "_model_name": "VBoxModel",
            "_view_module": "@jupyter-widgets/controls",
            "_model_module_version": "1.5.0",
            "_view_count": null,
            "_view_module_version": "1.5.0",
            "box_style": "",
            "layout": "IPY_MODEL_bd6328e6962e415ea2302eda23cb9223",
            "_model_module": "@jupyter-widgets/controls",
            "children": [
              "IPY_MODEL_eba32512606e4437837cf965023170d1",
              "IPY_MODEL_11b311c241b84a5aaefabe89077fddd8",
              "IPY_MODEL_2c29aa05fe1040ac901748e9f338e7e2"
            ]
          }
        },
        "bd6328e6962e415ea2302eda23cb9223": {
          "model_module": "@jupyter-widgets/base",
          "model_name": "LayoutModel",
          "model_module_version": "1.2.0",
          "state": {
            "_view_name": "LayoutView",
            "grid_template_rows": null,
            "right": null,
            "justify_content": null,
            "_view_module": "@jupyter-widgets/base",
            "overflow": null,
            "_model_module_version": "1.2.0",
            "_view_count": null,
            "flex_flow": null,
            "width": null,
            "min_width": null,
            "border": null,
            "align_items": null,
            "bottom": null,
            "_model_module": "@jupyter-widgets/base",
            "top": null,
            "grid_column": null,
            "overflow_y": null,
            "overflow_x": null,
            "grid_auto_flow": null,
            "grid_area": null,
            "grid_template_columns": null,
            "flex": null,
            "_model_name": "LayoutModel",
            "justify_items": null,
            "grid_row": null,
            "max_height": null,
            "align_content": null,
            "visibility": null,
            "align_self": null,
            "height": null,
            "min_height": null,
            "padding": null,
            "grid_auto_rows": null,
            "grid_gap": null,
            "max_width": null,
            "order": null,
            "_view_module_version": "1.2.0",
            "grid_template_areas": null,
            "object_position": null,
            "object_fit": null,
            "grid_auto_columns": null,
            "margin": null,
            "display": null,
            "left": null
          }
        },
        "eba32512606e4437837cf965023170d1": {
          "model_module": "@jupyter-widgets/controls",
          "model_name": "IntSliderModel",
          "model_module_version": "1.5.0",
          "state": {
            "_view_name": "IntSliderView",
            "style": "IPY_MODEL_7074c1be32414bfcb8f630a0abe068cd",
            "_dom_classes": [],
            "description": "A",
            "step": 1,
            "_model_name": "IntSliderModel",
            "orientation": "horizontal",
            "max": 8,
            "_view_module": "@jupyter-widgets/controls",
            "_model_module_version": "1.5.0",
            "value": 2,
            "_view_count": null,
            "disabled": false,
            "_view_module_version": "1.5.0",
            "min": 2,
            "continuous_update": true,
            "readout_format": "d",
            "description_tooltip": null,
            "readout": true,
            "_model_module": "@jupyter-widgets/controls",
            "layout": "IPY_MODEL_c40f7c493a2b4478b7aefb650fd8e56c"
          }
        },
        "11b311c241b84a5aaefabe89077fddd8": {
          "model_module": "@jupyter-widgets/controls",
          "model_name": "IntSliderModel",
          "model_module_version": "1.5.0",
          "state": {
            "_view_name": "IntSliderView",
            "style": "IPY_MODEL_a1a387d47b0a4af19d09837e32daa5f8",
            "_dom_classes": [],
            "description": "B",
            "step": 1,
            "_model_name": "IntSliderModel",
            "orientation": "horizontal",
            "max": 8,
            "_view_module": "@jupyter-widgets/controls",
            "_model_module_version": "1.5.0",
            "value": 2,
            "_view_count": null,
            "disabled": false,
            "_view_module_version": "1.5.0",
            "min": 2,
            "continuous_update": true,
            "readout_format": "d",
            "description_tooltip": null,
            "readout": true,
            "_model_module": "@jupyter-widgets/controls",
            "layout": "IPY_MODEL_4f9c1ed82db24514b15c700c05e42f12"
          }
        },
        "2c29aa05fe1040ac901748e9f338e7e2": {
          "model_module": "@jupyter-widgets/output",
          "model_name": "OutputModel",
          "model_module_version": "1.0.0",
          "state": {
            "_view_name": "OutputView",
            "msg_id": "",
            "_dom_classes": [],
            "_model_name": "OutputModel",
            "outputs": [
              {
                "output_type": "display_data",
                "data": {
                  "image/png": "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\n",
                  "text/plain": "<Figure size 864x432 with 1 Axes>"
                },
                "metadata": {}
              }
            ],
            "_view_module": "@jupyter-widgets/output",
            "_model_module_version": "1.0.0",
            "_view_count": null,
            "_view_module_version": "1.0.0",
            "layout": "IPY_MODEL_bbe2ded6ec24492bbf0af3ba486a4e14",
            "_model_module": "@jupyter-widgets/output"
          }
        },
        "7074c1be32414bfcb8f630a0abe068cd": {
          "model_module": "@jupyter-widgets/controls",
          "model_name": "SliderStyleModel",
          "model_module_version": "1.5.0",
          "state": {
            "_view_name": "StyleView",
            "handle_color": null,
            "_model_name": "SliderStyleModel",
            "description_width": "",
            "_view_module": "@jupyter-widgets/base",
            "_model_module_version": "1.5.0",
            "_view_count": null,
            "_view_module_version": "1.2.0",
            "_model_module": "@jupyter-widgets/controls"
          }
        },
        "c40f7c493a2b4478b7aefb650fd8e56c": {
          "model_module": "@jupyter-widgets/base",
          "model_name": "LayoutModel",
          "model_module_version": "1.2.0",
          "state": {
            "_view_name": "LayoutView",
            "grid_template_rows": null,
            "right": null,
            "justify_content": null,
            "_view_module": "@jupyter-widgets/base",
            "overflow": null,
            "_model_module_version": "1.2.0",
            "_view_count": null,
            "flex_flow": null,
            "width": null,
            "min_width": null,
            "border": null,
            "align_items": null,
            "bottom": null,
            "_model_module": "@jupyter-widgets/base",
            "top": null,
            "grid_column": null,
            "overflow_y": null,
            "overflow_x": null,
            "grid_auto_flow": null,
            "grid_area": null,
            "grid_template_columns": null,
            "flex": null,
            "_model_name": "LayoutModel",
            "justify_items": null,
            "grid_row": null,
            "max_height": null,
            "align_content": null,
            "visibility": null,
            "align_self": null,
            "height": null,
            "min_height": null,
            "padding": null,
            "grid_auto_rows": null,
            "grid_gap": null,
            "max_width": null,
            "order": null,
            "_view_module_version": "1.2.0",
            "grid_template_areas": null,
            "object_position": null,
            "object_fit": null,
            "grid_auto_columns": null,
            "margin": null,
            "display": null,
            "left": null
          }
        },
        "a1a387d47b0a4af19d09837e32daa5f8": {
          "model_module": "@jupyter-widgets/controls",
          "model_name": "SliderStyleModel",
          "model_module_version": "1.5.0",
          "state": {
            "_view_name": "StyleView",
            "handle_color": null,
            "_model_name": "SliderStyleModel",
            "description_width": "",
            "_view_module": "@jupyter-widgets/base",
            "_model_module_version": "1.5.0",
            "_view_count": null,
            "_view_module_version": "1.2.0",
            "_model_module": "@jupyter-widgets/controls"
          }
        },
        "4f9c1ed82db24514b15c700c05e42f12": {
          "model_module": "@jupyter-widgets/base",
          "model_name": "LayoutModel",
          "model_module_version": "1.2.0",
          "state": {
            "_view_name": "LayoutView",
            "grid_template_rows": null,
            "right": null,
            "justify_content": null,
            "_view_module": "@jupyter-widgets/base",
            "overflow": null,
            "_model_module_version": "1.2.0",
            "_view_count": null,
            "flex_flow": null,
            "width": null,
            "min_width": null,
            "border": null,
            "align_items": null,
            "bottom": null,
            "_model_module": "@jupyter-widgets/base",
            "top": null,
            "grid_column": null,
            "overflow_y": null,
            "overflow_x": null,
            "grid_auto_flow": null,
            "grid_area": null,
            "grid_template_columns": null,
            "flex": null,
            "_model_name": "LayoutModel",
            "justify_items": null,
            "grid_row": null,
            "max_height": null,
            "align_content": null,
            "visibility": null,
            "align_self": null,
            "height": null,
            "min_height": null,
            "padding": null,
            "grid_auto_rows": null,
            "grid_gap": null,
            "max_width": null,
            "order": null,
            "_view_module_version": "1.2.0",
            "grid_template_areas": null,
            "object_position": null,
            "object_fit": null,
            "grid_auto_columns": null,
            "margin": null,
            "display": null,
            "left": null
          }
        },
        "bbe2ded6ec24492bbf0af3ba486a4e14": {
          "model_module": "@jupyter-widgets/base",
          "model_name": "LayoutModel",
          "model_module_version": "1.2.0",
          "state": {
            "_view_name": "LayoutView",
            "grid_template_rows": null,
            "right": null,
            "justify_content": null,
            "_view_module": "@jupyter-widgets/base",
            "overflow": null,
            "_model_module_version": "1.2.0",
            "_view_count": null,
            "flex_flow": null,
            "width": null,
            "min_width": null,
            "border": null,
            "align_items": null,
            "bottom": null,
            "_model_module": "@jupyter-widgets/base",
            "top": null,
            "grid_column": null,
            "overflow_y": null,
            "overflow_x": null,
            "grid_auto_flow": null,
            "grid_area": null,
            "grid_template_columns": null,
            "flex": null,
            "_model_name": "LayoutModel",
            "justify_items": null,
            "grid_row": null,
            "max_height": null,
            "align_content": null,
            "visibility": null,
            "align_self": null,
            "height": null,
            "min_height": null,
            "padding": null,
            "grid_auto_rows": null,
            "grid_gap": null,
            "max_width": null,
            "order": null,
            "_view_module_version": "1.2.0",
            "grid_template_areas": null,
            "object_position": null,
            "object_fit": null,
            "grid_auto_columns": null,
            "margin": null,
            "display": null,
            "left": null
          }
        }
      }
    }
  },
  "cells": [
    {
      "cell_type": "markdown",
      "metadata": {
        "id": "view-in-github",
        "colab_type": "text"
      },
      "source": [
        "<a href=\"https://colab.research.google.com/github/jsblandon/mc-i-applications/blob/main/app02/mci_app02_interactive.ipynb\" target=\"_parent\"><img src=\"https://colab.research.google.com/assets/colab-badge.svg\" alt=\"Open In Colab\"/></a>"
      ]
    },
    {
      "cell_type": "markdown",
      "source": [
        "# <center> Aplicación 02 - Métodos Cuantitativos I</center>\n",
        "## <center> Ingeniería Agroambiental </center>\n",
        "###  <center> Universidad Tecnológica - UTEC </center>\n",
        "### <center>  Matías Salomone </center>\n",
        "### <center> Juan Blandón </center>\n",
        "<center> 2022 - I </center>"
      ],
      "metadata": {
        "id": "kPRfzr9RqElz"
      }
    },
    {
      "cell_type": "markdown",
      "source": [
        "En su forma más básica las funciones trigonométricas $sen(t)$ y $cos(t)$ tienen como propiedad la **periodicidad**, esto es:\n",
        "\n",
        "$$sen(t + 2n\\pi) = sen(t) \\quad \\textrm{para cuaquier entero } n,$$\n",
        "\n",
        "$$cos(t + 2n\\pi) = cos(t) \\quad \\textrm{para cuaquier entero } n,$$\n",
        "\n",
        "conforme lo anterior una función es **períodica** si hay un número positivo $p$ tal que  $f(t+p) = f(t)$ para toda $t$. Así, el mínimo número tal número positivo se conoce como el **período**."
      ],
      "metadata": {
        "id": "0WUWPZl6qT4O"
      }
    },
    {
      "cell_type": "markdown",
      "source": [
        "En este cuaderno interactivo tendrán la oportunidad de interactuar con los parámetros de una función trigonométrica en distintos escenarios. En el primer ejemplo veremos el impacto de la **amplitud** y el período en la generación de una función seno. En el segundo escenario se replica uno de los ejemplos del ejercicio 7 del capítulo 5 del libro de Precalculo de Stewart. En esta parte entenderemos lo que implica sumar funciones trigonométricas."
      ],
      "metadata": {
        "id": "NjeqQyWE1j2H"
      }
    },
    {
      "cell_type": "markdown",
      "source": [
        "*   En el Ejemplo I varíe con el botón la amplitud de la función seno. También cambie el valor de $\\texttt{n}$ teniendo en cuenta que **sean números enteros**. Concluya al respecto en los distintos escenarios. Si desea agregue imágenes al documento.\n",
        "\n",
        "*   En el ejemplo II varíe la amplitud de ambas funciones trigonométricas. Adicionalmente, si así lo requiere, varíe el valor del período representado por $\\texttt{n}$. Concluya al respecto en los distintos escenarios. Si desea agregue imágenes al documento."
      ],
      "metadata": {
        "id": "7zlzlGqNr1vs"
      }
    },
    {
      "cell_type": "markdown",
      "source": [
        "---\n",
        "\n",
        "# **Librerías**\n",
        "\n",
        "---"
      ],
      "metadata": {
        "id": "TcdOpg7XPRtH"
      }
    },
    {
      "cell_type": "code",
      "source": [
        "# Librerías a importar\n",
        "import numpy as np\n",
        "import matplotlib.pyplot as plt\n",
        "import seaborn as sb\n",
        "import ipywidgets as widgets\n",
        "from fractions import Fraction as frac\n",
        "from matplotlib.ticker import FuncFormatter, MultipleLocator\n",
        "from ipywidgets import interact, interactive, fixed, interact_manual"
      ],
      "metadata": {
        "id": "onSMx-ioqTFX"
      },
      "execution_count": 3,
      "outputs": []
    },
    {
      "cell_type": "code",
      "source": [
        "# Se fijan los parámetros fijos para graficar con Seaborn\n",
        "sb.set_style('whitegrid', {'grid.linestyle': '--'})\n",
        "sb.set_palette(\"dark\")"
      ],
      "metadata": {
        "id": "CxFWmo7lO3_n"
      },
      "execution_count": 4,
      "outputs": []
    },
    {
      "cell_type": "markdown",
      "source": [
        "---\n",
        "\n",
        "# **Funciones**\n",
        "\n",
        "---"
      ],
      "metadata": {
        "id": "kjjB_8vJPI2Y"
      }
    },
    {
      "cell_type": "code",
      "source": [
        "def pi_axis_formatter(val, pos, denomlim=10, pi=r'\\pi'):\n",
        "    r\"\"\" Function to format x-axis\n",
        "\n",
        "    This function sets the x-ticks as π multiples. The function is designed by\n",
        "    taxus-d and it is take from their repo:\n",
        "\n",
        "    https://gist.github.com/taxus-d/aa69e43c3d8b804864ede4a8c056e9cd\n",
        "\n",
        "    Example:\n",
        "\n",
        "    format label properly\n",
        "    for example: 0.6666 pi --> 2π/3\n",
        "               : 0      pi --> 0\n",
        "               : 0.50   pi --> π/2  \n",
        "    \"\"\"\n",
        "    \n",
        "    minus = \"-\" if val < 0 else \"\"\n",
        "    val = abs(val)\n",
        "    ratio = frac(val/np.pi).limit_denominator(denomlim)\n",
        "    n, d = ratio.numerator, ratio.denominator\n",
        "    \n",
        "    fmt2 = \"%s\" % d \n",
        "    if n == 0:\n",
        "        fmt1 = \"0\"\n",
        "    elif n == 1:\n",
        "        fmt1 = pi\n",
        "    else:\n",
        "        fmt1 = r\"%s%s\" % (n,pi)\n",
        "        \n",
        "    fmtstring = \"$\" + minus + (fmt1 if d == 1 else r\"{%s}/{%s}\" % (fmt1, fmt2)) + \"$\"\n",
        "    \n",
        "    return fmtstring"
      ],
      "metadata": {
        "id": "NRiXeliLzegb"
      },
      "execution_count": 5,
      "outputs": []
    },
    {
      "cell_type": "code",
      "source": [
        "def manipulate_sin(t, n, A=1):\n",
        "    r\"\"\" Function to manipulate a sine wave\n",
        "\n",
        "    This function can generate a sine wave based on the expression:\n",
        "\n",
        "    y = Asin(t)\n",
        "\n",
        "    Receives:\n",
        "    --------\n",
        "\n",
        "    t : np.array\n",
        "        Array of values to get the sine wave plot\n",
        "\n",
        "    n : int\n",
        "        Period value\n",
        "\n",
        "    A : float\n",
        "        Amplitude of sine wave\n",
        "\n",
        "    Returns:\n",
        "    --------\n",
        "\n",
        "    Void output\n",
        "    \"\"\"\n",
        "\n",
        "    # Parámetros iniciales de la gráfica\n",
        "    plt.figure(figsize=(12,6))\n",
        "    ax = plt.gca()\n",
        "    ax.set_aspect('equal')\n",
        "\n",
        "    # Vector de salida\n",
        "    y = A * np.sin(t)\n",
        "\n",
        "    # Gráfica\n",
        "    plt.plot(t,y)\n",
        "    plt.ylim(-1.5,1.5)\n",
        "    plt.xlabel('t')\n",
        "    plt.ylabel('y(t)')\n",
        "\n",
        "    plt.title(str(A) + \"$\\cdot$sin(t+\" + str(2*n) + \"$\\pi$)\")\n",
        "\n",
        "    # Se fija por defecto la subdivisión del eje x\n",
        "    valor_marca = np.pi/2\n",
        "    # Se fijan las etiquetas de las marcas del eje x\n",
        "    ax.xaxis.set_major_formatter(FuncFormatter(pi_axis_formatter))\n",
        "    # Se fijan los números apropiados para las marcas\n",
        "    ax.xaxis.set_major_locator(MultipleLocator(base=valor_marca))\n",
        "\n",
        "    plt.grid(True)\n",
        "    plt.show()"
      ],
      "metadata": {
        "id": "qzVfoo0LRISP"
      },
      "execution_count": 44,
      "outputs": []
    },
    {
      "cell_type": "code",
      "source": [
        "def operate_waves(x, A=2, B=1):\n",
        "    r\"\"\" Function to operate sine/cosine functions\n",
        "\n",
        "    Thus function allows to add or sustract sine and cosines based on the\n",
        "    expressions:\n",
        "\n",
        "        f(x) = 2cos(x)\n",
        "        g(x) = sen(2x)\n",
        "        h(x) = f(x) + g(x) = 2cos(x) + sen(2x)\n",
        "\n",
        "    Receives:\n",
        "    --------\n",
        "\n",
        "    x : np.array\n",
        "        Array of values to get the plots for each function\n",
        "\n",
        "    A : int\n",
        "        Amplitude f(x) function\n",
        "\n",
        "    B : int\n",
        "        Amplitude g(x) function\n",
        "\n",
        "    Returns:\n",
        "    --------\n",
        "\n",
        "    Void output\n",
        "    \"\"\"\n",
        "\n",
        "    # Parámetros iniciales de la gráfica\n",
        "    plt.figure(figsize=(12,6))\n",
        "    ax = plt.gca()\n",
        "    ax.set_aspect('equal')\n",
        "\n",
        "    # Vector de salida\n",
        "    f = A * np.cos(x)\n",
        "    g = B*np.sin(2*x)\n",
        "    h = f + g\n",
        "\n",
        "    # Gráfica\n",
        "    plt.plot(x,f,label = '$f(x)$')\n",
        "    plt.plot(x,g,label = '$g(x)$')\n",
        "    plt.plot(x,h,label = '$h(x)$')\n",
        "    plt.ylim(-8,8)\n",
        "    plt.xlabel('x')\n",
        "    plt.ylabel('y(x)')\n",
        "\n",
        "    plt.title(str(A) + \"$\\cdot$cos(x) + \" + str(B) + \"$\\cdot$sin(2x)\")\n",
        "\n",
        "    # Se fija por defecto la subdivisión del eje x\n",
        "    valor_marca = np.pi/2\n",
        "    # Se fijan las etiquetas de las marcas del eje x\n",
        "    ax.xaxis.set_major_formatter(FuncFormatter(pi_axis_formatter))\n",
        "    # Se fijan los números apropiados para las marcas\n",
        "    ax.xaxis.set_major_locator(MultipleLocator(base=valor_marca))\n",
        "\n",
        "    plt.grid(True)\n",
        "    plt.legend()\n",
        "    plt.show()"
      ],
      "metadata": {
        "id": "p7XXe-b1kYv-"
      },
      "execution_count": 45,
      "outputs": []
    },
    {
      "cell_type": "markdown",
      "source": [
        "---\n",
        "\n",
        "# **Ejercicio I**\n",
        "\n",
        "---"
      ],
      "metadata": {
        "id": "OroqtJWymt6P"
      }
    },
    {
      "cell_type": "code",
      "source": [
        "# Gráfica interactiva\n",
        "n = 4\n",
        "t = np.linspace(0,2*n*np.pi, 1000)  # Valores del conjunto de partida\n",
        "\n",
        "grafica_interactiva = interactive(# Función a convertir a interactiva\n",
        "                                  manipulate_sin,\n",
        "                                  # ¿Es dinámico o estático el parámetro de los \n",
        "                                  # valores de entrada?\n",
        "                                  t = fixed(t),\n",
        "                                  # ¿Es dinámico o estático el parámetro de los \n",
        "                                  # valores del período?\n",
        "                                  n = fixed(n),\n",
        "                                  # ¿Es dinámica o estática la amplitud del seno?\n",
        "                                  A = (0,1,0.1))\n",
        "\n",
        "salida = grafica_interactiva.children[-1]\n",
        "grafica_interactiva"
      ],
      "metadata": {
        "colab": {
          "base_uri": "https://localhost:8080/",
          "height": 188,
          "referenced_widgets": [
            "22a0bfc530fd4b23b51472030f28906d",
            "82a7c0b199444e289a29433d139080d3",
            "93f27261836b4e73959fe80f9dab0979",
            "425182e1bf654f86901583a7361d92ba",
            "eaf3375a24b74011bb5981b9f8771e75",
            "b7ad4c96c8774200839aa9db49a0c6e0",
            "bfcdf2f11cf54eb08ca52168562a9a5d"
          ]
        },
        "id": "4E5-JYc5U73F",
        "outputId": "90ce1fe1-b2f4-4c6e-987d-b01fb18c0d6e"
      },
      "execution_count": 47,
      "outputs": [
        {
          "output_type": "display_data",
          "data": {
            "application/vnd.jupyter.widget-view+json": {
              "model_id": "22a0bfc530fd4b23b51472030f28906d",
              "version_minor": 0,
              "version_major": 2
            },
            "text/plain": [
              "interactive(children=(FloatSlider(value=1.0, description='A', max=1.0), Output()), _dom_classes=('widget-inter…"
            ]
          },
          "metadata": {}
        }
      ]
    },
    {
      "cell_type": "markdown",
      "source": [
        "---\n",
        "\n",
        "# **Ejercicio II**\n",
        "\n",
        "---"
      ],
      "metadata": {
        "id": "M8-ClK7pm8q-"
      }
    },
    {
      "cell_type": "code",
      "source": [
        "# Gráfica interactiva\n",
        "n = 4\n",
        "x = np.linspace(0,2*n*np.pi, 1000)  # Valores del conjunto de partida\n",
        "\n",
        "grafica_interactiva_ii = interactive(# Función a convertir a interactiva\n",
        "                                     operate_waves,\n",
        "                                     # ¿Es dinámico o estático el parámetro de los \n",
        "                                     # valores de entrada?\n",
        "                                     x = fixed(x),\n",
        "                                     # ¿Es dinámica o estática la amplitud de f(x)?\n",
        "                                     A = (2,8,1),\n",
        "                                     # ¿Es dinámica o estática la amplitud de f(x)?\n",
        "                                     B = (2,8,1))\n",
        "\n",
        "salida_ii = grafica_interactiva_ii.children[-1]\n",
        "grafica_interactiva_ii"
      ],
      "metadata": {
        "colab": {
          "base_uri": "https://localhost:8080/",
          "height": 473,
          "referenced_widgets": [
            "f8bb83a85617471d81983fc223078807",
            "bd6328e6962e415ea2302eda23cb9223",
            "eba32512606e4437837cf965023170d1",
            "11b311c241b84a5aaefabe89077fddd8",
            "2c29aa05fe1040ac901748e9f338e7e2",
            "7074c1be32414bfcb8f630a0abe068cd",
            "c40f7c493a2b4478b7aefb650fd8e56c",
            "a1a387d47b0a4af19d09837e32daa5f8",
            "4f9c1ed82db24514b15c700c05e42f12",
            "bbe2ded6ec24492bbf0af3ba486a4e14"
          ]
        },
        "id": "kYR8UX8abvKu",
        "outputId": "e78d9a9e-a4e9-4ccf-b257-e19e264b50c5"
      },
      "execution_count": 48,
      "outputs": [
        {
          "output_type": "display_data",
          "data": {
            "application/vnd.jupyter.widget-view+json": {
              "model_id": "f8bb83a85617471d81983fc223078807",
              "version_minor": 0,
              "version_major": 2
            },
            "text/plain": [
              "interactive(children=(IntSlider(value=2, description='A', max=8, min=2), IntSlider(value=2, description='B', m…"
            ]
          },
          "metadata": {}
        }
      ]
    }
  ]
}